{
 "cells": [
  {
   "cell_type": "code",
   "execution_count": 1,
   "id": "6e3e99ef",
   "metadata": {
    "deletable": false,
    "editable": false
   },
   "outputs": [],
   "source": [
    "# Initialize Otter\n",
    "import otter\n",
    "grader = otter.Notebook(\"hw4.ipynb\")"
   ]
  },
  {
   "cell_type": "code",
   "execution_count": 2,
   "id": "dac1aa4e",
   "metadata": {},
   "outputs": [],
   "source": [
    "import pandas as pd\n",
    "import seaborn as sns\n",
    "import matplotlib.pyplot as plt\n",
    "import numpy as np\n",
    "pd.set_option(\"future.no_silent_downcasting\", True)\n",
    "pd.options.mode.chained_assignment = None"
   ]
  },
  {
   "cell_type": "markdown",
   "id": "649f6dd1",
   "metadata": {},
   "source": [
    "## <u>Name:</u> Yannick Apedo, yannicks\n",
    "\n",
    "Names and Onyens of fellow students you discussed Homework4 problems and ideas:\n",
    "\n",
    "- Students: \n",
    "\n",
    "We encourage discussing ideas and brainstorming with your peers, but the final text, code, and comments in this homework assignment MUST be 100% written by you as mentioned in syllabus.\n",
    "\n"
   ]
  },
  {
   "cell_type": "markdown",
   "id": "a55c8fcf",
   "metadata": {},
   "source": [
    "## Problem 1.  (15 points) Just how old are you?\n",
    "Suppose you are asked to provide information about the **age of permanent residents of North Carolina**, so you decide to obtain age data for **100 people**."
   ]
  },
  {
   "cell_type": "markdown",
   "id": "a0f25f0c",
   "metadata": {},
   "source": [
    "### **Problem 1.1 (4 points)** \n",
    "Initially, you ask the age of the **first 100 people you meet on campus**.  \n",
    "1. What is this type of sampling called? Pick **one** closest and most specific answer.\n",
    "3. What are potential biases that could result from this sampling approach?  Name **at least two**.  \n",
    "4. Would you expect this to be a representative sample of North Carolina residents?"
   ]
  },
  {
   "cell_type": "markdown",
   "id": "8ce6fac0",
   "metadata": {},
   "source": [
    "1. Convenience sampling\n",
    "2. Sampling bias, reporting bias (only reporting based on certain features), nonresponse bias (based on age, not able to respond or unwillingness to provide age)\n",
    "3. From a larger sample of the age of 100 people (divided by 5 age groups of 20), a smaller group would be 5 groups of 2 of each group, totaling 10."
   ]
  },
  {
   "cell_type": "markdown",
   "id": "a2f29ff7",
   "metadata": {},
   "source": [
    "### **Problem 1.2 (4 points)** \n",
    "You decide to look up the **proportions of race/ethnicity** for North Carolina permanent residents. You calculate the corresponding **proportions of 100**, then collect data again by wandering campus and asking the age of exactly that many people of each race/ethnicity.  \n",
    "\n",
    "For example, the [2020 US Census](https://www.census.gov/library/stories/state-by-state/north-carolina-population-change-between-census-decade.html) says the four largest NC race and ethnicity groups are White alone 62%, Black alone 12%, Hispanic 19%, and Asian alone 6%. So you would ask the age of the first 62 White people you meet, the first 12 Black people you meet, and so on.\n",
    "\n",
    "1. What type of sampling is this? Pick **one** closest and most specific answer.\n",
    "2. Would you expect it to be more or less representative than your previous data from Problem 1.1?  \n",
    "3. What are the most significant biases that would remain?  Name **at least two**."
   ]
  },
  {
   "cell_type": "markdown",
   "id": "0508cabb",
   "metadata": {},
   "source": [
    "1. Quota sampling, predetermined number of samples with select characteristics\n",
    "2. Less representative, as you are setting a quota or maximum on the amount of a certain race to survey.\n",
    "3. Self-selection bias, "
   ]
  },
  {
   "cell_type": "markdown",
   "id": "114e92e0",
   "metadata": {},
   "source": [
    "### **Problem 1.3 (2 points)** \n",
    "Alternatively, suppose you get access to full census data for all residents of the state of North Carolina that includes age as an attribute.  You take the age of the **first 100 rows of the table** and drop the rest.  What potential concerns do you have with this approach?"
   ]
  },
  {
   "cell_type": "markdown",
   "id": "f879f8fa",
   "metadata": {},
   "source": [
    "1. The first 100 rows may only have a certain group of ages if found in ascending or descending order (first 100 rows could be infants, or really old people)\n",
    "2. May not be including other factors besides age, such as age, income, etc.\n",
    "3. The sample size of 100 is quite small considering NC's population (in millions)"
   ]
  },
  {
   "cell_type": "markdown",
   "id": "2a906b07",
   "metadata": {},
   "source": [
    "### **Problem 1.4 (4 points)** \n",
    "Finally, you decide to take **100 random samples from the census data** table.\n",
    "1. What type of sampling is this? Pick **one** closest and most specific answer.\n",
    "2. Would you expect this to be a representative sample of North Carolina residents?\n",
    "3. Do you think it matters if you allow replacement for this sampling?  Why or why not?\n",
    "4. If the census data is in a table named `nc_people` that has a row for every person, write code that uses pandas to randomly sample 100 people from `nc_people` and put them in a new table named `nc_people_100`."
   ]
  },
  {
   "cell_type": "markdown",
   "id": "7765d2e8",
   "metadata": {},
   "source": [
    "1. Simple random sampling, selecting samples are easily accessible\n",
    "2. Yes, everyone has a chance of being selected in the sample\n",
    "3. Yes, because then the samples would not be 'random', manipulation of data to be more convenient to examiner\n",
    "4.\n",
    "\n",
    "import pandas as pd\n",
    "nc_people_100 = nc_people.sample(n =100, replace = False, random _state = 42)\n",
    "nc_people_100 = nc_people.sample"
   ]
  },
  {
   "cell_type": "markdown",
   "id": "8e7dbba4",
   "metadata": {},
   "source": [
    "### **Problem 1.5 (1 point)** \n",
    "Which of the following is an example of sampling?\n",
    "1. Enumerating all the possible outcomes of drawing 1 card from a deck\n",
    "2. Counting the number of planets in our solar system\n",
    "3. Surveying a piece of property to mark its boundaries\n",
    "4. Asking people in your class who sit next to you their favorite Pokemon "
   ]
  },
  {
   "cell_type": "markdown",
   "id": "0b29b38e",
   "metadata": {},
   "source": [
    "4. Asking people in your class who sit next to you their favorite Pokemon"
   ]
  },
  {
   "cell_type": "markdown",
   "id": "c40bda5b",
   "metadata": {},
   "source": [
    "## Problem 2. Loaded question (30 points)\n",
    "\n",
    "In this problem, you'll be analyzing the fairness of a 6-sided die.\n",
    "\n",
    "A street vendor asks you if you'd like to play a game.  The game is:\n",
    "* pay \\$10 to roll a 6-sided die 3 times\n",
    "* if any of those rolls is a 6 he pays you $11.  "
   ]
  },
  {
   "cell_type": "markdown",
   "id": "99a9d686",
   "metadata": {},
   "source": [
    "### **Problem 2.1 (3 points) Probability**\n",
    "For these three questions, **assume the die is fair**.  (We'll reconsider this dubious assumption in the next section.)\n",
    "1) What are your chances of rolling **at least one 6** in a game? (show how you calculate this)\n",
    "\n",
    "**Hint**: It might be easier to calculate the complementary probability of this event, then subtract that from 1.\n",
    "\n",
    "2) To the nearest cent, what is the **expected value** of your profit or loss if you play the game 10 times?\n",
    "4) If you play the game 100 times, are you guaranteed to win **at least one** of the games?  (again, assuming the die is fair)\n",
    "\n",
    "\n"
   ]
  },
  {
   "cell_type": "markdown",
   "id": "69882011",
   "metadata": {},
   "source": [
    "1. Chances of rolling at least one 6 in 3 rolls = 1 - (5/6)^3 = 0.421 = 42%\n",
    "2.\n",
    "- Chances of rolling at least one 6 in a game: 1 - (5/6)^3 = 0.421 * 1 dollar profit = 0.421\n",
    "- Chances of rolling no 6 in a game: 1 - 0.421 = 0.578 * -10 = -5.78\n",
    "- 0.421 + -5.78 = -$5.36 expected value\n",
    "3. Technically no, since the chances of you not winning are higher than you winning a game\n",
    "- (0.578)^100"
   ]
  },
  {
   "cell_type": "markdown",
   "id": "367c0603",
   "metadata": {},
   "source": [
    "### **Problem 2.2 (4 points) Hypothesis Testing**\n",
    "You decide to play the game 20 times, and out of your 60 total rolls of the die, you roll a 6 **four times**.  You start to suspect something is not right, and you wonder if perhaps the die is NOT fair.  In particular, you feel that there might be **less than fair chance** of rolling a 6, even though the street vendor insists it is fair. You decide to conduct a hypothesis test.\n",
    "\n",
    "1) State the null hypothesis for this situation.  Remember, you'll need to be able to \"simulate under the null\".\n",
    "2) State the alternative hypothesis.\n",
    "3) Which of the following statistics would you be appropriate for evaluating these hypotheses?\n",
    "* a) cost to play the game\n",
    "* b) number of 5's rolled\n",
    "* c) proportion of 6's rolled\n",
    "* d) total number of rolls\n",
    "4) What is the value of this statistic for the 20 games you played?  Assign it to `measured_statistic1` in the provided cell."
   ]
  },
  {
   "cell_type": "markdown",
   "id": "8316a116",
   "metadata": {},
   "source": [
    "1. Null hypothesis: The dice is fair. \n",
    "2. Alternative hypothesis: The dice is no fair\n",
    "3. C, proportion of 6's rolled, because you are determining the hypothesis test based on the number of 6s rolled.\n",
    "4. 4/60 = 1/15"
   ]
  },
  {
   "cell_type": "code",
   "execution_count": 3,
   "id": "f1fab772",
   "metadata": {
    "tags": []
   },
   "outputs": [],
   "source": [
    "# Assign the value of the statistic for the 20 games here\n",
    "measured_statistic1 = 0.06666666666"
   ]
  },
  {
   "cell_type": "markdown",
   "id": "1129ca05",
   "metadata": {},
   "source": [
    "### **Problem 2.3 (10 points) Simulating under the null**\n",
    "In this problem, you'll be writing code to simulate the test statistic for 30 rolls, and you'll run that simulation 1000 times. \n",
    "\n",
    "**Hint**: Refer back to demo code from lectures as well as lab9 to complete this problem.\n",
    "\n",
    "#### Problem 2.3.1 (2 points) \n",
    "First, write a function named `sample_die()` that takes an argument `num_rolls` and returns a list containing that many simulated 6-sided die rolls.  Import whatever Python package you need to do this."
   ]
  },
  {
   "cell_type": "code",
   "execution_count": 4,
   "id": "efea4850",
   "metadata": {
    "tags": []
   },
   "outputs": [
    {
     "name": "stdout",
     "output_type": "stream",
     "text": [
      "[np.int64(1), np.int64(2), np.int64(5), np.int64(1), np.int64(6), np.int64(5), np.int64(5), np.int64(4), np.int64(1), np.int64(2)]\n"
     ]
    }
   ],
   "source": [
    "# write your code here\n",
    "...\n",
    "def sample_die(num_rolls):\n",
    "    rolls = np.random.randint(1, 7, num_rolls)\n",
    "    # This is sampling from uniform distribution\n",
    "    return list(rolls)\n",
    "\n",
    "print(sample_die(10))"
   ]
  },
  {
   "cell_type": "markdown",
   "id": "f56b46f5",
   "metadata": {
    "deletable": false,
    "editable": false
   },
   "source": [
    "#### Problem 2.3.2 (2 points)\n",
    "Next, write code to simulate 1000 times the test statistic for 60 die rolls, and store the test statistic in a table named `statistic1`"
   ]
  },
  {
   "cell_type": "code",
   "execution_count": 5,
   "id": "50f3075b",
   "metadata": {
    "tags": []
   },
   "outputs": [
    {
     "data": {
      "text/html": [
       "<div>\n",
       "<style scoped>\n",
       "    .dataframe tbody tr th:only-of-type {\n",
       "        vertical-align: middle;\n",
       "    }\n",
       "\n",
       "    .dataframe tbody tr th {\n",
       "        vertical-align: top;\n",
       "    }\n",
       "\n",
       "    .dataframe thead th {\n",
       "        text-align: right;\n",
       "    }\n",
       "</style>\n",
       "<table border=\"1\" class=\"dataframe\">\n",
       "  <thead>\n",
       "    <tr style=\"text-align: right;\">\n",
       "      <th></th>\n",
       "      <th>test statistic</th>\n",
       "    </tr>\n",
       "  </thead>\n",
       "  <tbody>\n",
       "    <tr>\n",
       "      <th>0</th>\n",
       "      <td>0.266667</td>\n",
       "    </tr>\n",
       "    <tr>\n",
       "      <th>1</th>\n",
       "      <td>0.216667</td>\n",
       "    </tr>\n",
       "    <tr>\n",
       "      <th>2</th>\n",
       "      <td>0.100000</td>\n",
       "    </tr>\n",
       "    <tr>\n",
       "      <th>3</th>\n",
       "      <td>0.150000</td>\n",
       "    </tr>\n",
       "    <tr>\n",
       "      <th>4</th>\n",
       "      <td>0.200000</td>\n",
       "    </tr>\n",
       "    <tr>\n",
       "      <th>...</th>\n",
       "      <td>...</td>\n",
       "    </tr>\n",
       "    <tr>\n",
       "      <th>995</th>\n",
       "      <td>0.116667</td>\n",
       "    </tr>\n",
       "    <tr>\n",
       "      <th>996</th>\n",
       "      <td>0.166667</td>\n",
       "    </tr>\n",
       "    <tr>\n",
       "      <th>997</th>\n",
       "      <td>0.116667</td>\n",
       "    </tr>\n",
       "    <tr>\n",
       "      <th>998</th>\n",
       "      <td>0.116667</td>\n",
       "    </tr>\n",
       "    <tr>\n",
       "      <th>999</th>\n",
       "      <td>0.166667</td>\n",
       "    </tr>\n",
       "  </tbody>\n",
       "</table>\n",
       "<p>1000 rows × 1 columns</p>\n",
       "</div>"
      ],
      "text/plain": [
       "     test statistic\n",
       "0          0.266667\n",
       "1          0.216667\n",
       "2          0.100000\n",
       "3          0.150000\n",
       "4          0.200000\n",
       "..              ...\n",
       "995        0.116667\n",
       "996        0.166667\n",
       "997        0.116667\n",
       "998        0.116667\n",
       "999        0.166667\n",
       "\n",
       "[1000 rows x 1 columns]"
      ]
     },
     "execution_count": 5,
     "metadata": {},
     "output_type": "execute_result"
    }
   ],
   "source": [
    "statistic1 = pd.DataFrame(columns=['test statistic'])\n",
    "\n",
    "for simulation in range(1000):\n",
    "    # finish the code below\n",
    "    simulated_rolls = pd.DataFrame(sample_die(60), columns=['roll']) # create a 1-column table of randomly simulated rolls\n",
    "    # sixes is an array of True or False. True if roll is 6, False otherwise.\n",
    "    sixes = simulated_rolls['roll'] == 6\n",
    "    # calculate the statistic for this simulated data using sixes\n",
    "    sim_t1 = sixes.mean()\n",
    "    statistic1.loc[len(statistic1)] = [sim_t1] # add simulated result to end of table\n",
    "statistic1"
   ]
  },
  {
   "cell_type": "markdown",
   "id": "334fcf41",
   "metadata": {
    "deletable": false,
    "editable": false
   },
   "source": [
    "#### Problem 2.3.3 (2 points)\n",
    "Plot the empirical distribution of your statistics simulated under the null.  Plot a vertical line for the value of the measured statistic for your actual games.  Label your plot using the parameter `label=`."
   ]
  },
  {
   "cell_type": "code",
   "execution_count": 6,
   "id": "5c84c0a0",
   "metadata": {
    "tags": []
   },
   "outputs": [
    {
     "name": "stderr",
     "output_type": "stream",
     "text": [
      "/tmp/ipykernel_3528705/3990932986.py:10: UserWarning: No artists with labels found to put in legend.  Note that artists whose label start with an underscore are ignored when legend() is called with no argument.\n",
      "  ax.legend()\n"
     ]
    },
    {
     "data": {
      "text/plain": [
       "<matplotlib.legend.Legend at 0x7fb407faaa70>"
      ]
     },
     "execution_count": 6,
     "metadata": {},
     "output_type": "execute_result"
    },
    {
     "data": {
      "image/png": "[encoded data removed]",
      "text/plain": [
       "<Figure size 640x480 with 1 Axes>"
      ]
     },
     "metadata": {},
     "output_type": "display_data"
    }
   ],
   "source": [
    "# 3. Plot empirical distribution of t1 (under the null)\n",
    "\n",
    "fig, ax = plt.subplots(1)\n",
    "# write your code here\n",
    "measured_statistic1 = 0.06666666666\n",
    "ax.hist(statistic1['test statistic'], bins=30, alpha=0.7)\n",
    "ax.axvline(measured_statistic1, color='red', linestyle='--', linewidth=2)\n",
    "ax.set_title('Distribution of Statistics')\n",
    "ax.set_ylabel('Frequency')\n",
    "ax.legend()"
   ]
  },
  {
   "cell_type": "markdown",
   "id": "2ca9e570",
   "metadata": {
    "deletable": false,
    "editable": false
   },
   "source": [
    "#### Problem 2.3.4 (1 point)\n",
    "Looking at the shape of your distribution, what type of distribution is your simulation data, approximately? We're referring to the distribution of the statistics simulated under the null."
   ]
  },
  {
   "cell_type": "markdown",
   "id": "8b1085bd",
   "metadata": {
    "deletable": false,
    "editable": false
   },
   "source": [
    "*Write your answer here*"
   ]
  },
  {
   "cell_type": "markdown",
   "id": "2e389825-47af-48e0-8f94-80d156b796c0",
   "metadata": {},
   "source": [
    "This distribution is a normal/bell."
   ]
  },
  {
   "cell_type": "markdown",
   "id": "ab8f9c0b",
   "metadata": {
    "deletable": false,
    "editable": false
   },
   "source": [
    "#### Problem 2.3.5 (2 points) \n",
    "Write code to compute the p-value from the `statistic1` table."
   ]
  },
  {
   "cell_type": "code",
   "execution_count": 7,
   "id": "a3d09c97",
   "metadata": {
    "tags": []
   },
   "outputs": [
    {
     "data": {
      "text/plain": [
       "np.float64(0.008)"
      ]
     },
     "execution_count": 7,
     "metadata": {},
     "output_type": "execute_result"
    }
   ],
   "source": [
    "p_value1 = (statistic1['test statistic'] <= measured_statistic1).mean()\n",
    "p_value1"
   ]
  },
  {
   "cell_type": "markdown",
   "id": "ed5173d1",
   "metadata": {
    "deletable": false,
    "editable": false
   },
   "source": [
    "#### Problem 2.3.6 (1 point)\n",
    "Does your simulation provide evidence against the null?  (yes or no)  If so, is the evidence statistically significant?  Is it extremely statistically significant?  Explain the convention you are using to answer these questions."
   ]
  },
  {
   "cell_type": "markdown",
   "id": "a80d80f4",
   "metadata": {
    "deletable": false,
    "editable": false
   },
   "source": [
    "*Write your answers here*"
   ]
  },
  {
   "cell_type": "markdown",
   "id": "498b9696-dc3a-4510-a305-60b05b3cf09f",
   "metadata": {},
   "source": [
    "I find the simulation to not provide evidence against the null, since the p-value provided above is not less than 0.05, which is needed to be statistically significantly."
   ]
  },
  {
   "cell_type": "markdown",
   "id": "97988d60",
   "metadata": {
    "deletable": false,
    "editable": false
   },
   "source": [
    "### **Problem 2.4 (4 points) Hypothesis testing revisited**\n",
    "Instead of investigating if there is a less than fair chance of rolling a 6 like you just did, now evaluate if there is an **unfair chance** of rolling a 6 (either more likely or less likely than fair).\n",
    "\n",
    "1) State the null hypothesis for this situation.\n",
    "2) State the alternative hypothesis.\n",
    "3) Which of the following statistics would you be appropriate for evaluating these hypotheses?\n",
    "* a) number of 6's rolled in a row\n",
    "* b) abs(proportion of 6's rolled - 1/6)\n",
    "* c) abs(proportion of 6's rolled + 1/6)\n",
    "* d) abs(total number of rolls)\n",
    "4) What is the value of this statistic for the 20 games you played?  Assign it to `measured_statistic2` in the provided cell."
   ]
  },
  {
   "cell_type": "markdown",
   "id": "3a32650c",
   "metadata": {
    "deletable": false,
    "editable": false
   },
   "source": [
    "*Write your answers to 1-4 here*"
   ]
  },
  {
   "cell_type": "markdown",
   "id": "ebbf118b-8370-4eea-a39e-b16b3c71dcdf",
   "metadata": {},
   "source": [
    "1. The dice is fair\n",
    "2. The dice is unfair\n",
    "3. B) abs(proportion of 6's rolled- 1/6)\n",
    "4. .1 - > abs(4/60 - 1/6)"
   ]
  },
  {
   "cell_type": "code",
   "execution_count": 8,
   "id": "05f11c1a",
   "metadata": {
    "tags": []
   },
   "outputs": [],
   "source": [
    "# Assign your measured statistic here\n",
    "measured_statistic2 = 0.1"
   ]
  },
  {
   "cell_type": "markdown",
   "id": "fe697287",
   "metadata": {
    "deletable": false,
    "editable": false
   },
   "source": [
    "### **Problem 2.5 (8 points) Simulating under the null revisited**\n",
    "\n",
    "#### Problem 2.5.1 (3 points)\n",
    "Now, write code to simulate 1000 times this new test statistic for 60 die rolls, and store the results in a table named `statistic2`.  You can use the same `sample_die()` function you wrote before."
   ]
  },
  {
   "cell_type": "code",
   "execution_count": 9,
   "id": "63b73af7",
   "metadata": {
    "tags": []
   },
   "outputs": [
    {
     "data": {
      "text/html": [
       "<div>\n",
       "<style scoped>\n",
       "    .dataframe tbody tr th:only-of-type {\n",
       "        vertical-align: middle;\n",
       "    }\n",
       "\n",
       "    .dataframe tbody tr th {\n",
       "        vertical-align: top;\n",
       "    }\n",
       "\n",
       "    .dataframe thead th {\n",
       "        text-align: right;\n",
       "    }\n",
       "</style>\n",
       "<table border=\"1\" class=\"dataframe\">\n",
       "  <thead>\n",
       "    <tr style=\"text-align: right;\">\n",
       "      <th></th>\n",
       "      <th>test statistic</th>\n",
       "    </tr>\n",
       "  </thead>\n",
       "  <tbody>\n",
       "    <tr>\n",
       "      <th>0</th>\n",
       "      <td>0.016667</td>\n",
       "    </tr>\n",
       "    <tr>\n",
       "      <th>1</th>\n",
       "      <td>0.033333</td>\n",
       "    </tr>\n",
       "    <tr>\n",
       "      <th>2</th>\n",
       "      <td>0.066667</td>\n",
       "    </tr>\n",
       "    <tr>\n",
       "      <th>3</th>\n",
       "      <td>0.033333</td>\n",
       "    </tr>\n",
       "    <tr>\n",
       "      <th>4</th>\n",
       "      <td>0.016667</td>\n",
       "    </tr>\n",
       "    <tr>\n",
       "      <th>...</th>\n",
       "      <td>...</td>\n",
       "    </tr>\n",
       "    <tr>\n",
       "      <th>995</th>\n",
       "      <td>0.000000</td>\n",
       "    </tr>\n",
       "    <tr>\n",
       "      <th>996</th>\n",
       "      <td>0.016667</td>\n",
       "    </tr>\n",
       "    <tr>\n",
       "      <th>997</th>\n",
       "      <td>0.050000</td>\n",
       "    </tr>\n",
       "    <tr>\n",
       "      <th>998</th>\n",
       "      <td>0.000000</td>\n",
       "    </tr>\n",
       "    <tr>\n",
       "      <th>999</th>\n",
       "      <td>0.033333</td>\n",
       "    </tr>\n",
       "  </tbody>\n",
       "</table>\n",
       "<p>1000 rows × 1 columns</p>\n",
       "</div>"
      ],
      "text/plain": [
       "     test statistic\n",
       "0          0.016667\n",
       "1          0.033333\n",
       "2          0.066667\n",
       "3          0.033333\n",
       "4          0.016667\n",
       "..              ...\n",
       "995        0.000000\n",
       "996        0.016667\n",
       "997        0.050000\n",
       "998        0.000000\n",
       "999        0.033333\n",
       "\n",
       "[1000 rows x 1 columns]"
      ]
     },
     "execution_count": 9,
     "metadata": {},
     "output_type": "execute_result"
    }
   ],
   "source": [
    "statistic2 = pd.DataFrame(columns=['test statistic'])\n",
    "\n",
    "for simulation in range(1000):\n",
    "    # finish the code below\n",
    "    simulated_rolls = sample_die(60)\n",
    "    sixes = simulated_rolls.count(6)\n",
    "    sim_t2 = abs(sixes/60 - 1/6)\n",
    "    statistic2.loc[len(statistic2)] = [sim_t2] # add simulated result to end of table\n",
    "statistic2"
   ]
  },
  {
   "cell_type": "markdown",
   "id": "d27c63c9",
   "metadata": {
    "deletable": false,
    "editable": false
   },
   "source": [
    "#### Problem 2.5.2 (2 points)\n",
    "Plot the empirical distribution of your statistics simulated under the null.  Plot a vertical line for the value of the measured statistic for your actual games.  Label your plot using the parameter `label=`."
   ]
  },
  {
   "cell_type": "code",
   "execution_count": 10,
   "id": "45dd0381",
   "metadata": {
    "tags": []
   },
   "outputs": [
    {
     "name": "stderr",
     "output_type": "stream",
     "text": [
      "/tmp/ipykernel_3528705/2689499901.py:8: UserWarning: No artists with labels found to put in legend.  Note that artists whose label start with an underscore are ignored when legend() is called with no argument.\n",
      "  ax.legend()\n"
     ]
    },
    {
     "data": {
      "text/plain": [
       "<matplotlib.legend.Legend at 0x7fb405eef730>"
      ]
     },
     "execution_count": 10,
     "metadata": {},
     "output_type": "execute_result"
    },
    {
     "data": {
      "image/png": "[encoded data removed]",
      "text/plain": [
       "<Figure size 640x480 with 1 Axes>"
      ]
     },
     "metadata": {},
     "output_type": "display_data"
    }
   ],
   "source": [
    "fig, ax = plt.subplots(1)\n",
    "# write your code here\n",
    "measured_statistic1 = 0.06666666666\n",
    "ax.hist(statistic2['test statistic'], bins=30, alpha=0.7)\n",
    "ax.axvline(measured_statistic2, color='red', linestyle='--', linewidth=2)\n",
    "ax.set_title('Distribution of Statistics')\n",
    "ax.set_ylabel('Frequency')\n",
    "ax.legend()"
   ]
  },
  {
   "cell_type": "markdown",
   "id": "5a8bc1ce",
   "metadata": {
    "deletable": false,
    "editable": false
   },
   "source": [
    "\n",
    "#### Problem 2.5.3 (2 points)\n",
    "Write code to compute the p-value from the `statistic2` table.\n"
   ]
  },
  {
   "cell_type": "code",
   "execution_count": 11,
   "id": "4b6a273c",
   "metadata": {
    "tags": []
   },
   "outputs": [
    {
     "data": {
      "text/plain": [
       "np.float64(0.981)"
      ]
     },
     "execution_count": 11,
     "metadata": {},
     "output_type": "execute_result"
    }
   ],
   "source": [
    "p_value2 = (statistic2['test statistic'] <= measured_statistic2).mean()\n",
    "p_value2"
   ]
  },
  {
   "cell_type": "markdown",
   "id": "d99470a6",
   "metadata": {},
   "source": [
    "#### Problem 2.5.4 (1 points)\n",
    "Does your simulation provide evidence against the null?  (yes or no)  If so, is the evidence statistically significant?  Is it extremely statistically significant?  "
   ]
  },
  {
   "cell_type": "markdown",
   "id": "809b1aba",
   "metadata": {},
   "source": [
    "No, as the p-value is too high to be considered statistically significant."
   ]
  },
  {
   "cell_type": "markdown",
   "id": "2c8a476d",
   "metadata": {},
   "source": [
    "### **Problem 2.6 Optimization (1 point)**\n",
    "In class, we simulated two test statistics inside a single loop using the same set of samples, and we could have done that here too.  Why is it okay to do that for this problem?  What advantage would it offer?\n"
   ]
  },
  {
   "cell_type": "markdown",
   "id": "779ed1ce",
   "metadata": {},
   "source": [
    "I think it would be fine to conduct in this problem because the statistics are from the same data set. It would probably be more efficient as an advantage to do so since you are using the same data."
   ]
  },
  {
   "cell_type": "markdown",
   "id": "e4365c87",
   "metadata": {},
   "source": [
    "## Problem 3. You need a loan?  Hmm, let me decide (20 points)\n",
    "Many of you have expressed interest in financial technology, so for this problem you will be using historic data from a bank about whether or not people were granted loans.  You'll be using this data to create a predictor for whether the bank would grant loans to future applicants.\n"
   ]
  },
  {
   "cell_type": "markdown",
   "id": "a9740632",
   "metadata": {},
   "source": [
    "### **Problem 3.1 Data Preparation (4 points)**\n",
    "First, load the loan data into a table named `loan_data_raw`.\n"
   ]
  },
  {
   "cell_type": "code",
   "execution_count": 12,
   "id": "64a81178",
   "metadata": {},
   "outputs": [],
   "source": [
    "loan_data_raw = pd.read_csv('loan_data.csv')"
   ]
  },
  {
   "cell_type": "markdown",
   "id": "f1ab4670",
   "metadata": {},
   "source": [
    "#### Problem 3.1.1 (1 point)\n",
    "We don't need the `Loan_ID` column, so drop that column and store the resulting table in `loan_data`."
   ]
  },
  {
   "cell_type": "code",
   "execution_count": 13,
   "id": "d4c7b8fe",
   "metadata": {
    "tags": []
   },
   "outputs": [
    {
     "data": {
      "text/html": [
       "<div>\n",
       "<style scoped>\n",
       "    .dataframe tbody tr th:only-of-type {\n",
       "        vertical-align: middle;\n",
       "    }\n",
       "\n",
       "    .dataframe tbody tr th {\n",
       "        vertical-align: top;\n",
       "    }\n",
       "\n",
       "    .dataframe thead th {\n",
       "        text-align: right;\n",
       "    }\n",
       "</style>\n",
       "<table border=\"1\" class=\"dataframe\">\n",
       "  <thead>\n",
       "    <tr style=\"text-align: right;\">\n",
       "      <th></th>\n",
       "      <th>Gender</th>\n",
       "      <th>Married</th>\n",
       "      <th>Dependents</th>\n",
       "      <th>Education</th>\n",
       "      <th>ApplicantIncome</th>\n",
       "      <th>CoapplicantIncome</th>\n",
       "      <th>LoanAmount</th>\n",
       "      <th>Loan_Amount_Term</th>\n",
       "      <th>Credit_History</th>\n",
       "      <th>Property_Area</th>\n",
       "      <th>Loan_Status</th>\n",
       "    </tr>\n",
       "  </thead>\n",
       "  <tbody>\n",
       "    <tr>\n",
       "      <th>0</th>\n",
       "      <td>Male</td>\n",
       "      <td>No</td>\n",
       "      <td>0</td>\n",
       "      <td>Graduate</td>\n",
       "      <td>5849</td>\n",
       "      <td>0.0</td>\n",
       "      <td>NaN</td>\n",
       "      <td>360</td>\n",
       "      <td>1.0</td>\n",
       "      <td>Urban</td>\n",
       "      <td>Y</td>\n",
       "    </tr>\n",
       "    <tr>\n",
       "      <th>1</th>\n",
       "      <td>Male</td>\n",
       "      <td>Yes</td>\n",
       "      <td>1</td>\n",
       "      <td>Graduate</td>\n",
       "      <td>4583</td>\n",
       "      <td>1508.0</td>\n",
       "      <td>128.0</td>\n",
       "      <td>360</td>\n",
       "      <td>1.0</td>\n",
       "      <td>Rural</td>\n",
       "      <td>N</td>\n",
       "    </tr>\n",
       "    <tr>\n",
       "      <th>2</th>\n",
       "      <td>Male</td>\n",
       "      <td>Yes</td>\n",
       "      <td>0</td>\n",
       "      <td>Graduate</td>\n",
       "      <td>3000</td>\n",
       "      <td>0.0</td>\n",
       "      <td>66.0</td>\n",
       "      <td>360</td>\n",
       "      <td>1.0</td>\n",
       "      <td>Urban</td>\n",
       "      <td>Y</td>\n",
       "    </tr>\n",
       "    <tr>\n",
       "      <th>3</th>\n",
       "      <td>Male</td>\n",
       "      <td>Yes</td>\n",
       "      <td>0</td>\n",
       "      <td>Not Graduate</td>\n",
       "      <td>2583</td>\n",
       "      <td>2358.0</td>\n",
       "      <td>120.0</td>\n",
       "      <td>360</td>\n",
       "      <td>1.0</td>\n",
       "      <td>Urban</td>\n",
       "      <td>Y</td>\n",
       "    </tr>\n",
       "    <tr>\n",
       "      <th>4</th>\n",
       "      <td>Male</td>\n",
       "      <td>No</td>\n",
       "      <td>0</td>\n",
       "      <td>Graduate</td>\n",
       "      <td>6000</td>\n",
       "      <td>0.0</td>\n",
       "      <td>141.0</td>\n",
       "      <td>360</td>\n",
       "      <td>1.0</td>\n",
       "      <td>Urban</td>\n",
       "      <td>Y</td>\n",
       "    </tr>\n",
       "    <tr>\n",
       "      <th>...</th>\n",
       "      <td>...</td>\n",
       "      <td>...</td>\n",
       "      <td>...</td>\n",
       "      <td>...</td>\n",
       "      <td>...</td>\n",
       "      <td>...</td>\n",
       "      <td>...</td>\n",
       "      <td>...</td>\n",
       "      <td>...</td>\n",
       "      <td>...</td>\n",
       "      <td>...</td>\n",
       "    </tr>\n",
       "    <tr>\n",
       "      <th>609</th>\n",
       "      <td>Female</td>\n",
       "      <td>No</td>\n",
       "      <td>0</td>\n",
       "      <td>Graduate</td>\n",
       "      <td>2900</td>\n",
       "      <td>0.0</td>\n",
       "      <td>71.0</td>\n",
       "      <td>360</td>\n",
       "      <td>1.0</td>\n",
       "      <td>Rural</td>\n",
       "      <td>Y</td>\n",
       "    </tr>\n",
       "    <tr>\n",
       "      <th>610</th>\n",
       "      <td>Male</td>\n",
       "      <td>Yes</td>\n",
       "      <td>3+</td>\n",
       "      <td>Graduate</td>\n",
       "      <td>4106</td>\n",
       "      <td>0.0</td>\n",
       "      <td>40.0</td>\n",
       "      <td>180</td>\n",
       "      <td>1.0</td>\n",
       "      <td>Rural</td>\n",
       "      <td>Y</td>\n",
       "    </tr>\n",
       "    <tr>\n",
       "      <th>611</th>\n",
       "      <td>Male</td>\n",
       "      <td>Yes</td>\n",
       "      <td>1</td>\n",
       "      <td>Graduate</td>\n",
       "      <td>8072</td>\n",
       "      <td>240.0</td>\n",
       "      <td>253.0</td>\n",
       "      <td>360</td>\n",
       "      <td>1.0</td>\n",
       "      <td>Urban</td>\n",
       "      <td>Y</td>\n",
       "    </tr>\n",
       "    <tr>\n",
       "      <th>612</th>\n",
       "      <td>Male</td>\n",
       "      <td>Yes</td>\n",
       "      <td>2</td>\n",
       "      <td>Graduate</td>\n",
       "      <td>7583</td>\n",
       "      <td>0.0</td>\n",
       "      <td>187.0</td>\n",
       "      <td>360</td>\n",
       "      <td>1.0</td>\n",
       "      <td>Urban</td>\n",
       "      <td>Y</td>\n",
       "    </tr>\n",
       "    <tr>\n",
       "      <th>613</th>\n",
       "      <td>Female</td>\n",
       "      <td>No</td>\n",
       "      <td>0</td>\n",
       "      <td>Graduate</td>\n",
       "      <td>4583</td>\n",
       "      <td>0.0</td>\n",
       "      <td>133.0</td>\n",
       "      <td>360</td>\n",
       "      <td>0.0</td>\n",
       "      <td>Semiurban</td>\n",
       "      <td>N</td>\n",
       "    </tr>\n",
       "  </tbody>\n",
       "</table>\n",
       "<p>614 rows × 11 columns</p>\n",
       "</div>"
      ],
      "text/plain": [
       "     Gender Married Dependents     Education  ApplicantIncome  \\\n",
       "0      Male      No          0      Graduate             5849   \n",
       "1      Male     Yes          1      Graduate             4583   \n",
       "2      Male     Yes          0      Graduate             3000   \n",
       "3      Male     Yes          0  Not Graduate             2583   \n",
       "4      Male      No          0      Graduate             6000   \n",
       "..      ...     ...        ...           ...              ...   \n",
       "609  Female      No          0      Graduate             2900   \n",
       "610    Male     Yes         3+      Graduate             4106   \n",
       "611    Male     Yes          1      Graduate             8072   \n",
       "612    Male     Yes          2      Graduate             7583   \n",
       "613  Female      No          0      Graduate             4583   \n",
       "\n",
       "     CoapplicantIncome  LoanAmount  Loan_Amount_Term  Credit_History  \\\n",
       "0                  0.0         NaN               360             1.0   \n",
       "1               1508.0       128.0               360             1.0   \n",
       "2                  0.0        66.0               360             1.0   \n",
       "3               2358.0       120.0               360             1.0   \n",
       "4                  0.0       141.0               360             1.0   \n",
       "..                 ...         ...               ...             ...   \n",
       "609                0.0        71.0               360             1.0   \n",
       "610                0.0        40.0               180             1.0   \n",
       "611              240.0       253.0               360             1.0   \n",
       "612                0.0       187.0               360             1.0   \n",
       "613                0.0       133.0               360             0.0   \n",
       "\n",
       "    Property_Area Loan_Status  \n",
       "0           Urban           Y  \n",
       "1           Rural           N  \n",
       "2           Urban           Y  \n",
       "3           Urban           Y  \n",
       "4           Urban           Y  \n",
       "..            ...         ...  \n",
       "609         Rural           Y  \n",
       "610         Rural           Y  \n",
       "611         Urban           Y  \n",
       "612         Urban           Y  \n",
       "613     Semiurban           N  \n",
       "\n",
       "[614 rows x 11 columns]"
      ]
     },
     "execution_count": 13,
     "metadata": {},
     "output_type": "execute_result"
    }
   ],
   "source": [
    "loan_data= loan_data_raw.drop(columns=['Loan_ID'])\n",
    "loan_data"
   ]
  },
  {
   "cell_type": "markdown",
   "id": "3a27d681",
   "metadata": {
    "deletable": false,
    "editable": false
   },
   "source": [
    "#### Problem 3.1.2 (1 point)\n",
    "Some of the values are missing from the table, so write the code to drop rows from `loan_data` that have any missing values, and store the result in `loan_data_clean`.\n",
    "\n",
    "**Hint**: We did this in lab10."
   ]
  },
  {
   "cell_type": "code",
   "execution_count": 14,
   "id": "0c137132",
   "metadata": {
    "tags": []
   },
   "outputs": [
    {
     "data": {
      "text/html": [
       "<div>\n",
       "<style scoped>\n",
       "    .dataframe tbody tr th:only-of-type {\n",
       "        vertical-align: middle;\n",
       "    }\n",
       "\n",
       "    .dataframe tbody tr th {\n",
       "        vertical-align: top;\n",
       "    }\n",
       "\n",
       "    .dataframe thead th {\n",
       "        text-align: right;\n",
       "    }\n",
       "</style>\n",
       "<table border=\"1\" class=\"dataframe\">\n",
       "  <thead>\n",
       "    <tr style=\"text-align: right;\">\n",
       "      <th></th>\n",
       "      <th>Gender</th>\n",
       "      <th>Married</th>\n",
       "      <th>Dependents</th>\n",
       "      <th>Education</th>\n",
       "      <th>ApplicantIncome</th>\n",
       "      <th>CoapplicantIncome</th>\n",
       "      <th>LoanAmount</th>\n",
       "      <th>Loan_Amount_Term</th>\n",
       "      <th>Credit_History</th>\n",
       "      <th>Property_Area</th>\n",
       "      <th>Loan_Status</th>\n",
       "    </tr>\n",
       "  </thead>\n",
       "  <tbody>\n",
       "    <tr>\n",
       "      <th>1</th>\n",
       "      <td>Male</td>\n",
       "      <td>Yes</td>\n",
       "      <td>1</td>\n",
       "      <td>Graduate</td>\n",
       "      <td>4583</td>\n",
       "      <td>1508.0</td>\n",
       "      <td>128.0</td>\n",
       "      <td>360</td>\n",
       "      <td>1.0</td>\n",
       "      <td>Rural</td>\n",
       "      <td>N</td>\n",
       "    </tr>\n",
       "    <tr>\n",
       "      <th>2</th>\n",
       "      <td>Male</td>\n",
       "      <td>Yes</td>\n",
       "      <td>0</td>\n",
       "      <td>Graduate</td>\n",
       "      <td>3000</td>\n",
       "      <td>0.0</td>\n",
       "      <td>66.0</td>\n",
       "      <td>360</td>\n",
       "      <td>1.0</td>\n",
       "      <td>Urban</td>\n",
       "      <td>Y</td>\n",
       "    </tr>\n",
       "    <tr>\n",
       "      <th>3</th>\n",
       "      <td>Male</td>\n",
       "      <td>Yes</td>\n",
       "      <td>0</td>\n",
       "      <td>Not Graduate</td>\n",
       "      <td>2583</td>\n",
       "      <td>2358.0</td>\n",
       "      <td>120.0</td>\n",
       "      <td>360</td>\n",
       "      <td>1.0</td>\n",
       "      <td>Urban</td>\n",
       "      <td>Y</td>\n",
       "    </tr>\n",
       "    <tr>\n",
       "      <th>4</th>\n",
       "      <td>Male</td>\n",
       "      <td>No</td>\n",
       "      <td>0</td>\n",
       "      <td>Graduate</td>\n",
       "      <td>6000</td>\n",
       "      <td>0.0</td>\n",
       "      <td>141.0</td>\n",
       "      <td>360</td>\n",
       "      <td>1.0</td>\n",
       "      <td>Urban</td>\n",
       "      <td>Y</td>\n",
       "    </tr>\n",
       "    <tr>\n",
       "      <th>5</th>\n",
       "      <td>Male</td>\n",
       "      <td>Yes</td>\n",
       "      <td>2</td>\n",
       "      <td>Graduate</td>\n",
       "      <td>5417</td>\n",
       "      <td>4196.0</td>\n",
       "      <td>267.0</td>\n",
       "      <td>360</td>\n",
       "      <td>1.0</td>\n",
       "      <td>Urban</td>\n",
       "      <td>Y</td>\n",
       "    </tr>\n",
       "    <tr>\n",
       "      <th>...</th>\n",
       "      <td>...</td>\n",
       "      <td>...</td>\n",
       "      <td>...</td>\n",
       "      <td>...</td>\n",
       "      <td>...</td>\n",
       "      <td>...</td>\n",
       "      <td>...</td>\n",
       "      <td>...</td>\n",
       "      <td>...</td>\n",
       "      <td>...</td>\n",
       "      <td>...</td>\n",
       "    </tr>\n",
       "    <tr>\n",
       "      <th>609</th>\n",
       "      <td>Female</td>\n",
       "      <td>No</td>\n",
       "      <td>0</td>\n",
       "      <td>Graduate</td>\n",
       "      <td>2900</td>\n",
       "      <td>0.0</td>\n",
       "      <td>71.0</td>\n",
       "      <td>360</td>\n",
       "      <td>1.0</td>\n",
       "      <td>Rural</td>\n",
       "      <td>Y</td>\n",
       "    </tr>\n",
       "    <tr>\n",
       "      <th>610</th>\n",
       "      <td>Male</td>\n",
       "      <td>Yes</td>\n",
       "      <td>3+</td>\n",
       "      <td>Graduate</td>\n",
       "      <td>4106</td>\n",
       "      <td>0.0</td>\n",
       "      <td>40.0</td>\n",
       "      <td>180</td>\n",
       "      <td>1.0</td>\n",
       "      <td>Rural</td>\n",
       "      <td>Y</td>\n",
       "    </tr>\n",
       "    <tr>\n",
       "      <th>611</th>\n",
       "      <td>Male</td>\n",
       "      <td>Yes</td>\n",
       "      <td>1</td>\n",
       "      <td>Graduate</td>\n",
       "      <td>8072</td>\n",
       "      <td>240.0</td>\n",
       "      <td>253.0</td>\n",
       "      <td>360</td>\n",
       "      <td>1.0</td>\n",
       "      <td>Urban</td>\n",
       "      <td>Y</td>\n",
       "    </tr>\n",
       "    <tr>\n",
       "      <th>612</th>\n",
       "      <td>Male</td>\n",
       "      <td>Yes</td>\n",
       "      <td>2</td>\n",
       "      <td>Graduate</td>\n",
       "      <td>7583</td>\n",
       "      <td>0.0</td>\n",
       "      <td>187.0</td>\n",
       "      <td>360</td>\n",
       "      <td>1.0</td>\n",
       "      <td>Urban</td>\n",
       "      <td>Y</td>\n",
       "    </tr>\n",
       "    <tr>\n",
       "      <th>613</th>\n",
       "      <td>Female</td>\n",
       "      <td>No</td>\n",
       "      <td>0</td>\n",
       "      <td>Graduate</td>\n",
       "      <td>4583</td>\n",
       "      <td>0.0</td>\n",
       "      <td>133.0</td>\n",
       "      <td>360</td>\n",
       "      <td>0.0</td>\n",
       "      <td>Semiurban</td>\n",
       "      <td>N</td>\n",
       "    </tr>\n",
       "  </tbody>\n",
       "</table>\n",
       "<p>518 rows × 11 columns</p>\n",
       "</div>"
      ],
      "text/plain": [
       "     Gender Married Dependents     Education  ApplicantIncome  \\\n",
       "1      Male     Yes          1      Graduate             4583   \n",
       "2      Male     Yes          0      Graduate             3000   \n",
       "3      Male     Yes          0  Not Graduate             2583   \n",
       "4      Male      No          0      Graduate             6000   \n",
       "5      Male     Yes          2      Graduate             5417   \n",
       "..      ...     ...        ...           ...              ...   \n",
       "609  Female      No          0      Graduate             2900   \n",
       "610    Male     Yes         3+      Graduate             4106   \n",
       "611    Male     Yes          1      Graduate             8072   \n",
       "612    Male     Yes          2      Graduate             7583   \n",
       "613  Female      No          0      Graduate             4583   \n",
       "\n",
       "     CoapplicantIncome  LoanAmount  Loan_Amount_Term  Credit_History  \\\n",
       "1               1508.0       128.0               360             1.0   \n",
       "2                  0.0        66.0               360             1.0   \n",
       "3               2358.0       120.0               360             1.0   \n",
       "4                  0.0       141.0               360             1.0   \n",
       "5               4196.0       267.0               360             1.0   \n",
       "..                 ...         ...               ...             ...   \n",
       "609                0.0        71.0               360             1.0   \n",
       "610                0.0        40.0               180             1.0   \n",
       "611              240.0       253.0               360             1.0   \n",
       "612                0.0       187.0               360             1.0   \n",
       "613                0.0       133.0               360             0.0   \n",
       "\n",
       "    Property_Area Loan_Status  \n",
       "1           Rural           N  \n",
       "2           Urban           Y  \n",
       "3           Urban           Y  \n",
       "4           Urban           Y  \n",
       "5           Urban           Y  \n",
       "..            ...         ...  \n",
       "609         Rural           Y  \n",
       "610         Rural           Y  \n",
       "611         Urban           Y  \n",
       "612         Urban           Y  \n",
       "613     Semiurban           N  \n",
       "\n",
       "[518 rows x 11 columns]"
      ]
     },
     "execution_count": 14,
     "metadata": {},
     "output_type": "execute_result"
    }
   ],
   "source": [
    "loan_data_clean= loan_data.dropna()\n",
    "loan_data_clean"
   ]
  },
  {
   "cell_type": "markdown",
   "id": "464b992e",
   "metadata": {
    "deletable": false,
    "editable": false
   },
   "source": [
    "#### Problem 3.1.3 (2 points)\n",
    "You'll be using functions from `scikit-learn`, which don't know how to handle text values like `Male` or `Female` or `Yes` or `No`, so you'll have to turn them into numbers. For the `Gender` and `Married` columns, use boolean indexing to do this by assigning 0 for `Male` and 1 for `Female` and 0 for `No` and 1 for `Yes` (just like we did in lecture demo).  Some of the code is already provided, you fill in the rest.  \n",
    "\n",
    "**WARNING:** running this cell twice will set `Gender` and `Married` to all zeroes!  (think about why this is so)  If you do this accidentally, you can always just run the cell above that drops values to re-create `loan_data_clean`."
   ]
  },
  {
   "cell_type": "code",
   "execution_count": 15,
   "id": "591478b7",
   "metadata": {
    "tags": []
   },
   "outputs": [
    {
     "data": {
      "text/html": [
       "<div>\n",
       "<style scoped>\n",
       "    .dataframe tbody tr th:only-of-type {\n",
       "        vertical-align: middle;\n",
       "    }\n",
       "\n",
       "    .dataframe tbody tr th {\n",
       "        vertical-align: top;\n",
       "    }\n",
       "\n",
       "    .dataframe thead th {\n",
       "        text-align: right;\n",
       "    }\n",
       "</style>\n",
       "<table border=\"1\" class=\"dataframe\">\n",
       "  <thead>\n",
       "    <tr style=\"text-align: right;\">\n",
       "      <th></th>\n",
       "      <th>Gender</th>\n",
       "      <th>Married</th>\n",
       "      <th>Dependents</th>\n",
       "      <th>Education</th>\n",
       "      <th>ApplicantIncome</th>\n",
       "      <th>CoapplicantIncome</th>\n",
       "      <th>LoanAmount</th>\n",
       "      <th>Loan_Amount_Term</th>\n",
       "      <th>Credit_History</th>\n",
       "      <th>Property_Area</th>\n",
       "      <th>Loan_Status</th>\n",
       "    </tr>\n",
       "  </thead>\n",
       "  <tbody>\n",
       "    <tr>\n",
       "      <th>1</th>\n",
       "      <td>0</td>\n",
       "      <td>1</td>\n",
       "      <td>1</td>\n",
       "      <td>Graduate</td>\n",
       "      <td>4583</td>\n",
       "      <td>1508.0</td>\n",
       "      <td>128.0</td>\n",
       "      <td>360</td>\n",
       "      <td>1.0</td>\n",
       "      <td>Rural</td>\n",
       "      <td>N</td>\n",
       "    </tr>\n",
       "    <tr>\n",
       "      <th>2</th>\n",
       "      <td>0</td>\n",
       "      <td>1</td>\n",
       "      <td>0</td>\n",
       "      <td>Graduate</td>\n",
       "      <td>3000</td>\n",
       "      <td>0.0</td>\n",
       "      <td>66.0</td>\n",
       "      <td>360</td>\n",
       "      <td>1.0</td>\n",
       "      <td>Urban</td>\n",
       "      <td>Y</td>\n",
       "    </tr>\n",
       "    <tr>\n",
       "      <th>3</th>\n",
       "      <td>0</td>\n",
       "      <td>1</td>\n",
       "      <td>0</td>\n",
       "      <td>Not Graduate</td>\n",
       "      <td>2583</td>\n",
       "      <td>2358.0</td>\n",
       "      <td>120.0</td>\n",
       "      <td>360</td>\n",
       "      <td>1.0</td>\n",
       "      <td>Urban</td>\n",
       "      <td>Y</td>\n",
       "    </tr>\n",
       "    <tr>\n",
       "      <th>4</th>\n",
       "      <td>0</td>\n",
       "      <td>0</td>\n",
       "      <td>0</td>\n",
       "      <td>Graduate</td>\n",
       "      <td>6000</td>\n",
       "      <td>0.0</td>\n",
       "      <td>141.0</td>\n",
       "      <td>360</td>\n",
       "      <td>1.0</td>\n",
       "      <td>Urban</td>\n",
       "      <td>Y</td>\n",
       "    </tr>\n",
       "    <tr>\n",
       "      <th>5</th>\n",
       "      <td>0</td>\n",
       "      <td>1</td>\n",
       "      <td>2</td>\n",
       "      <td>Graduate</td>\n",
       "      <td>5417</td>\n",
       "      <td>4196.0</td>\n",
       "      <td>267.0</td>\n",
       "      <td>360</td>\n",
       "      <td>1.0</td>\n",
       "      <td>Urban</td>\n",
       "      <td>Y</td>\n",
       "    </tr>\n",
       "    <tr>\n",
       "      <th>...</th>\n",
       "      <td>...</td>\n",
       "      <td>...</td>\n",
       "      <td>...</td>\n",
       "      <td>...</td>\n",
       "      <td>...</td>\n",
       "      <td>...</td>\n",
       "      <td>...</td>\n",
       "      <td>...</td>\n",
       "      <td>...</td>\n",
       "      <td>...</td>\n",
       "      <td>...</td>\n",
       "    </tr>\n",
       "    <tr>\n",
       "      <th>609</th>\n",
       "      <td>1</td>\n",
       "      <td>0</td>\n",
       "      <td>0</td>\n",
       "      <td>Graduate</td>\n",
       "      <td>2900</td>\n",
       "      <td>0.0</td>\n",
       "      <td>71.0</td>\n",
       "      <td>360</td>\n",
       "      <td>1.0</td>\n",
       "      <td>Rural</td>\n",
       "      <td>Y</td>\n",
       "    </tr>\n",
       "    <tr>\n",
       "      <th>610</th>\n",
       "      <td>0</td>\n",
       "      <td>1</td>\n",
       "      <td>3+</td>\n",
       "      <td>Graduate</td>\n",
       "      <td>4106</td>\n",
       "      <td>0.0</td>\n",
       "      <td>40.0</td>\n",
       "      <td>180</td>\n",
       "      <td>1.0</td>\n",
       "      <td>Rural</td>\n",
       "      <td>Y</td>\n",
       "    </tr>\n",
       "    <tr>\n",
       "      <th>611</th>\n",
       "      <td>0</td>\n",
       "      <td>1</td>\n",
       "      <td>1</td>\n",
       "      <td>Graduate</td>\n",
       "      <td>8072</td>\n",
       "      <td>240.0</td>\n",
       "      <td>253.0</td>\n",
       "      <td>360</td>\n",
       "      <td>1.0</td>\n",
       "      <td>Urban</td>\n",
       "      <td>Y</td>\n",
       "    </tr>\n",
       "    <tr>\n",
       "      <th>612</th>\n",
       "      <td>0</td>\n",
       "      <td>1</td>\n",
       "      <td>2</td>\n",
       "      <td>Graduate</td>\n",
       "      <td>7583</td>\n",
       "      <td>0.0</td>\n",
       "      <td>187.0</td>\n",
       "      <td>360</td>\n",
       "      <td>1.0</td>\n",
       "      <td>Urban</td>\n",
       "      <td>Y</td>\n",
       "    </tr>\n",
       "    <tr>\n",
       "      <th>613</th>\n",
       "      <td>1</td>\n",
       "      <td>0</td>\n",
       "      <td>0</td>\n",
       "      <td>Graduate</td>\n",
       "      <td>4583</td>\n",
       "      <td>0.0</td>\n",
       "      <td>133.0</td>\n",
       "      <td>360</td>\n",
       "      <td>0.0</td>\n",
       "      <td>Semiurban</td>\n",
       "      <td>N</td>\n",
       "    </tr>\n",
       "  </tbody>\n",
       "</table>\n",
       "<p>518 rows × 11 columns</p>\n",
       "</div>"
      ],
      "text/plain": [
       "     Gender  Married Dependents     Education  ApplicantIncome  \\\n",
       "1         0        1          1      Graduate             4583   \n",
       "2         0        1          0      Graduate             3000   \n",
       "3         0        1          0  Not Graduate             2583   \n",
       "4         0        0          0      Graduate             6000   \n",
       "5         0        1          2      Graduate             5417   \n",
       "..      ...      ...        ...           ...              ...   \n",
       "609       1        0          0      Graduate             2900   \n",
       "610       0        1         3+      Graduate             4106   \n",
       "611       0        1          1      Graduate             8072   \n",
       "612       0        1          2      Graduate             7583   \n",
       "613       1        0          0      Graduate             4583   \n",
       "\n",
       "     CoapplicantIncome  LoanAmount  Loan_Amount_Term  Credit_History  \\\n",
       "1               1508.0       128.0               360             1.0   \n",
       "2                  0.0        66.0               360             1.0   \n",
       "3               2358.0       120.0               360             1.0   \n",
       "4                  0.0       141.0               360             1.0   \n",
       "5               4196.0       267.0               360             1.0   \n",
       "..                 ...         ...               ...             ...   \n",
       "609                0.0        71.0               360             1.0   \n",
       "610                0.0        40.0               180             1.0   \n",
       "611              240.0       253.0               360             1.0   \n",
       "612                0.0       187.0               360             1.0   \n",
       "613                0.0       133.0               360             0.0   \n",
       "\n",
       "    Property_Area Loan_Status  \n",
       "1           Rural           N  \n",
       "2           Urban           Y  \n",
       "3           Urban           Y  \n",
       "4           Urban           Y  \n",
       "5           Urban           Y  \n",
       "..            ...         ...  \n",
       "609         Rural           Y  \n",
       "610         Rural           Y  \n",
       "611         Urban           Y  \n",
       "612         Urban           Y  \n",
       "613     Semiurban           N  \n",
       "\n",
       "[518 rows x 11 columns]"
      ]
     },
     "execution_count": 15,
     "metadata": {},
     "output_type": "execute_result"
    }
   ],
   "source": [
    "is_Female = (loan_data_clean['Gender'] == 'Female')\n",
    "loan_data_clean['Gender'] = is_Female.astype(int)\n",
    "is_Yes = (loan_data_clean['Married']=='Yes')\n",
    "loan_data_clean['Married'] = is_Yes.astype(int)\n",
    "loan_data_clean"
   ]
  },
  {
   "cell_type": "markdown",
   "id": "1a9375f9",
   "metadata": {
    "deletable": false,
    "editable": false
   },
   "source": [
    "#### Problem 3.1.4 (0 points)\n",
    "Copy the code below that will do the same thing (a faster way) for the remaining columns.\n",
    "```Python\n",
    "loan_data_clean['Loan_Status'] = loan_data_clean.Loan_Status.replace({'N': 0, 'Y': 1})\n",
    "loan_data_clean['Property_Area'] = loan_data_clean.Property_Area.replace({'Rural':0, 'Urban':1, 'Semiurban':2})\n",
    "loan_data_clean['Education'] = loan_data_clean.Education.replace({'Graduate':0, 'Not Graduate':1})\n",
    "loan_data_clean['Dependents'] = loan_data_clean.Dependents.replace({'0':0, '1':1,'2':2,'3+':3})\n",
    "loan_data_clean = loan_data_clean.astype(float)\n",
    "loan_data_clean\n",
    "```\n"
   ]
  },
  {
   "cell_type": "code",
   "execution_count": 16,
   "id": "cbc566fe",
   "metadata": {
    "tags": []
   },
   "outputs": [
    {
     "data": {
      "text/html": [
       "<div>\n",
       "<style scoped>\n",
       "    .dataframe tbody tr th:only-of-type {\n",
       "        vertical-align: middle;\n",
       "    }\n",
       "\n",
       "    .dataframe tbody tr th {\n",
       "        vertical-align: top;\n",
       "    }\n",
       "\n",
       "    .dataframe thead th {\n",
       "        text-align: right;\n",
       "    }\n",
       "</style>\n",
       "<table border=\"1\" class=\"dataframe\">\n",
       "  <thead>\n",
       "    <tr style=\"text-align: right;\">\n",
       "      <th></th>\n",
       "      <th>Gender</th>\n",
       "      <th>Married</th>\n",
       "      <th>Dependents</th>\n",
       "      <th>Education</th>\n",
       "      <th>ApplicantIncome</th>\n",
       "      <th>CoapplicantIncome</th>\n",
       "      <th>LoanAmount</th>\n",
       "      <th>Loan_Amount_Term</th>\n",
       "      <th>Credit_History</th>\n",
       "      <th>Property_Area</th>\n",
       "      <th>Loan_Status</th>\n",
       "    </tr>\n",
       "  </thead>\n",
       "  <tbody>\n",
       "    <tr>\n",
       "      <th>1</th>\n",
       "      <td>0.0</td>\n",
       "      <td>1.0</td>\n",
       "      <td>1.0</td>\n",
       "      <td>0.0</td>\n",
       "      <td>4583.0</td>\n",
       "      <td>1508.0</td>\n",
       "      <td>128.0</td>\n",
       "      <td>360.0</td>\n",
       "      <td>1.0</td>\n",
       "      <td>0.0</td>\n",
       "      <td>0.0</td>\n",
       "    </tr>\n",
       "    <tr>\n",
       "      <th>2</th>\n",
       "      <td>0.0</td>\n",
       "      <td>1.0</td>\n",
       "      <td>0.0</td>\n",
       "      <td>0.0</td>\n",
       "      <td>3000.0</td>\n",
       "      <td>0.0</td>\n",
       "      <td>66.0</td>\n",
       "      <td>360.0</td>\n",
       "      <td>1.0</td>\n",
       "      <td>1.0</td>\n",
       "      <td>1.0</td>\n",
       "    </tr>\n",
       "    <tr>\n",
       "      <th>3</th>\n",
       "      <td>0.0</td>\n",
       "      <td>1.0</td>\n",
       "      <td>0.0</td>\n",
       "      <td>1.0</td>\n",
       "      <td>2583.0</td>\n",
       "      <td>2358.0</td>\n",
       "      <td>120.0</td>\n",
       "      <td>360.0</td>\n",
       "      <td>1.0</td>\n",
       "      <td>1.0</td>\n",
       "      <td>1.0</td>\n",
       "    </tr>\n",
       "    <tr>\n",
       "      <th>4</th>\n",
       "      <td>0.0</td>\n",
       "      <td>0.0</td>\n",
       "      <td>0.0</td>\n",
       "      <td>0.0</td>\n",
       "      <td>6000.0</td>\n",
       "      <td>0.0</td>\n",
       "      <td>141.0</td>\n",
       "      <td>360.0</td>\n",
       "      <td>1.0</td>\n",
       "      <td>1.0</td>\n",
       "      <td>1.0</td>\n",
       "    </tr>\n",
       "    <tr>\n",
       "      <th>5</th>\n",
       "      <td>0.0</td>\n",
       "      <td>1.0</td>\n",
       "      <td>2.0</td>\n",
       "      <td>0.0</td>\n",
       "      <td>5417.0</td>\n",
       "      <td>4196.0</td>\n",
       "      <td>267.0</td>\n",
       "      <td>360.0</td>\n",
       "      <td>1.0</td>\n",
       "      <td>1.0</td>\n",
       "      <td>1.0</td>\n",
       "    </tr>\n",
       "    <tr>\n",
       "      <th>...</th>\n",
       "      <td>...</td>\n",
       "      <td>...</td>\n",
       "      <td>...</td>\n",
       "      <td>...</td>\n",
       "      <td>...</td>\n",
       "      <td>...</td>\n",
       "      <td>...</td>\n",
       "      <td>...</td>\n",
       "      <td>...</td>\n",
       "      <td>...</td>\n",
       "      <td>...</td>\n",
       "    </tr>\n",
       "    <tr>\n",
       "      <th>609</th>\n",
       "      <td>1.0</td>\n",
       "      <td>0.0</td>\n",
       "      <td>0.0</td>\n",
       "      <td>0.0</td>\n",
       "      <td>2900.0</td>\n",
       "      <td>0.0</td>\n",
       "      <td>71.0</td>\n",
       "      <td>360.0</td>\n",
       "      <td>1.0</td>\n",
       "      <td>0.0</td>\n",
       "      <td>1.0</td>\n",
       "    </tr>\n",
       "    <tr>\n",
       "      <th>610</th>\n",
       "      <td>0.0</td>\n",
       "      <td>1.0</td>\n",
       "      <td>3.0</td>\n",
       "      <td>0.0</td>\n",
       "      <td>4106.0</td>\n",
       "      <td>0.0</td>\n",
       "      <td>40.0</td>\n",
       "      <td>180.0</td>\n",
       "      <td>1.0</td>\n",
       "      <td>0.0</td>\n",
       "      <td>1.0</td>\n",
       "    </tr>\n",
       "    <tr>\n",
       "      <th>611</th>\n",
       "      <td>0.0</td>\n",
       "      <td>1.0</td>\n",
       "      <td>1.0</td>\n",
       "      <td>0.0</td>\n",
       "      <td>8072.0</td>\n",
       "      <td>240.0</td>\n",
       "      <td>253.0</td>\n",
       "      <td>360.0</td>\n",
       "      <td>1.0</td>\n",
       "      <td>1.0</td>\n",
       "      <td>1.0</td>\n",
       "    </tr>\n",
       "    <tr>\n",
       "      <th>612</th>\n",
       "      <td>0.0</td>\n",
       "      <td>1.0</td>\n",
       "      <td>2.0</td>\n",
       "      <td>0.0</td>\n",
       "      <td>7583.0</td>\n",
       "      <td>0.0</td>\n",
       "      <td>187.0</td>\n",
       "      <td>360.0</td>\n",
       "      <td>1.0</td>\n",
       "      <td>1.0</td>\n",
       "      <td>1.0</td>\n",
       "    </tr>\n",
       "    <tr>\n",
       "      <th>613</th>\n",
       "      <td>1.0</td>\n",
       "      <td>0.0</td>\n",
       "      <td>0.0</td>\n",
       "      <td>0.0</td>\n",
       "      <td>4583.0</td>\n",
       "      <td>0.0</td>\n",
       "      <td>133.0</td>\n",
       "      <td>360.0</td>\n",
       "      <td>0.0</td>\n",
       "      <td>2.0</td>\n",
       "      <td>0.0</td>\n",
       "    </tr>\n",
       "  </tbody>\n",
       "</table>\n",
       "<p>518 rows × 11 columns</p>\n",
       "</div>"
      ],
      "text/plain": [
       "     Gender  Married  Dependents  Education  ApplicantIncome  \\\n",
       "1       0.0      1.0         1.0        0.0           4583.0   \n",
       "2       0.0      1.0         0.0        0.0           3000.0   \n",
       "3       0.0      1.0         0.0        1.0           2583.0   \n",
       "4       0.0      0.0         0.0        0.0           6000.0   \n",
       "5       0.0      1.0         2.0        0.0           5417.0   \n",
       "..      ...      ...         ...        ...              ...   \n",
       "609     1.0      0.0         0.0        0.0           2900.0   \n",
       "610     0.0      1.0         3.0        0.0           4106.0   \n",
       "611     0.0      1.0         1.0        0.0           8072.0   \n",
       "612     0.0      1.0         2.0        0.0           7583.0   \n",
       "613     1.0      0.0         0.0        0.0           4583.0   \n",
       "\n",
       "     CoapplicantIncome  LoanAmount  Loan_Amount_Term  Credit_History  \\\n",
       "1               1508.0       128.0             360.0             1.0   \n",
       "2                  0.0        66.0             360.0             1.0   \n",
       "3               2358.0       120.0             360.0             1.0   \n",
       "4                  0.0       141.0             360.0             1.0   \n",
       "5               4196.0       267.0             360.0             1.0   \n",
       "..                 ...         ...               ...             ...   \n",
       "609                0.0        71.0             360.0             1.0   \n",
       "610                0.0        40.0             180.0             1.0   \n",
       "611              240.0       253.0             360.0             1.0   \n",
       "612                0.0       187.0             360.0             1.0   \n",
       "613                0.0       133.0             360.0             0.0   \n",
       "\n",
       "     Property_Area  Loan_Status  \n",
       "1              0.0          0.0  \n",
       "2              1.0          1.0  \n",
       "3              1.0          1.0  \n",
       "4              1.0          1.0  \n",
       "5              1.0          1.0  \n",
       "..             ...          ...  \n",
       "609            0.0          1.0  \n",
       "610            0.0          1.0  \n",
       "611            1.0          1.0  \n",
       "612            1.0          1.0  \n",
       "613            2.0          0.0  \n",
       "\n",
       "[518 rows x 11 columns]"
      ]
     },
     "execution_count": 16,
     "metadata": {},
     "output_type": "execute_result"
    }
   ],
   "source": [
    "# Copy code here.\n",
    "loan_data_clean['Loan_Status'] = loan_data_clean.Loan_Status.replace({'N': 0, 'Y': 1})\n",
    "loan_data_clean['Property_Area'] = loan_data_clean.Property_Area.replace({'Rural':0, 'Urban':1, 'Semiurban':2})\n",
    "loan_data_clean['Education'] = loan_data_clean.Education.replace({'Graduate':0, 'Not Graduate':1})\n",
    "loan_data_clean['Dependents'] = loan_data_clean.Dependents.replace({'0':0, '1':1,'2':2,'3+':3})\n",
    "loan_data_clean = loan_data_clean.astype(float)\n",
    "loan_data_clean"
   ]
  },
  {
   "cell_type": "markdown",
   "id": "c9d47c78",
   "metadata": {
    "deletable": false,
    "editable": false
   },
   "source": [
    "### **Problem 3.2 Train and Test, part 1 (10 points)**\n",
    "Next, you'll be creating your training set and your test set.  \n"
   ]
  },
  {
   "cell_type": "markdown",
   "id": "3fde591c",
   "metadata": {
    "deletable": false,
    "editable": false
   },
   "source": [
    "#### Problem 3.2.1 (2 points)\n",
    "As we did in class and lab, create the training data from 80% of `loan_data_clean` by using random sampling.  The create the test set by dropping from `loan_data_clean` all the rows that are in the training set.  We set the random seed below to make the sampling reproducible so that everyone will be working with the same training and test sets."
   ]
  },
  {
   "cell_type": "code",
   "execution_count": 17,
   "id": "0d69d0b2",
   "metadata": {
    "tags": []
   },
   "outputs": [
    {
     "name": "stdout",
     "output_type": "stream",
     "text": [
      "(414, 11) (104, 11)\n"
     ]
    }
   ],
   "source": [
    "np.random.seed(420) # this makes the sampling reproducible, so everyone has same train and test\n",
    "train_loan = loan_data_clean.sample(frac=0.8)\n",
    "test_loan = loan_data_clean.drop(train_loan.index)\n",
    "print(train_loan.shape, test_loan.shape)"
   ]
  },
  {
   "cell_type": "markdown",
   "id": "a536b597",
   "metadata": {
    "deletable": false,
    "editable": false
   },
   "source": [
    "#### Problem 3.2.2 (2 points)\n",
    "You will be trying to predict `Loan_Status` from all the other data.  Create the approriate `X` and `y` tables for both the train and test sets."
   ]
  },
  {
   "cell_type": "code",
   "execution_count": 18,
   "id": "ccd58828",
   "metadata": {
    "tags": []
   },
   "outputs": [
    {
     "name": "stdout",
     "output_type": "stream",
     "text": [
      "(414, 10) (414,)\n",
      "(104, 10) (104,)\n"
     ]
    }
   ],
   "source": [
    "X_train_loan = train_loan.drop(columns=['Loan_Status'])\n",
    "y_train_loan = train_loan['Loan_Status']\n",
    "X_test_loan = test_loan.drop(columns=['Loan_Status'])\n",
    "y_test_loan = test_loan['Loan_Status']\n",
    "\n",
    "print(X_train_loan.shape, y_train_loan.shape)\n",
    "print(X_test_loan.shape, y_test_loan.shape)"
   ]
  },
  {
   "cell_type": "markdown",
   "id": "93f7c665",
   "metadata": {
    "deletable": false,
    "editable": false
   },
   "source": [
    "#### Problem 3.2.3 (2 points)\n",
    "Finally, use the `DecisionTreeClassifier` to create a decision tree to use for prediction.  Finish the code to print the scores of the classifier on the train and test sets."
   ]
  },
  {
   "cell_type": "code",
   "execution_count": 19,
   "id": "33215495",
   "metadata": {
    "tags": []
   },
   "outputs": [
    {
     "name": "stdout",
     "output_type": "stream",
     "text": [
      "Score on train: 0.8357487922705314\n",
      "Score on test: 0.7980769230769231\n"
     ]
    },
    {
     "data": {
      "image/png": "[encoded data removed]",
      "text/plain": [
       "<Figure size 2000x2000 with 1 Axes>"
      ]
     },
     "metadata": {},
     "output_type": "display_data"
    }
   ],
   "source": [
    "from sklearn.tree import DecisionTreeClassifier, plot_tree\n",
    "\n",
    "T = DecisionTreeClassifier(max_depth=3)\n",
    "T.fit(X_train_loan, y_train_loan)\n",
    "train_score = T.score(X_train_loan, y_train_loan)\n",
    "test_score = T.score(X_test_loan, y_test_loan)\n",
    "print('Score on train:', train_score)\n",
    "print('Score on test:', test_score)\n",
    "\n",
    "fig, ax = plt.subplots(1, figsize = (20, 20))\n",
    "p = plot_tree(T, filled = True, feature_names = X_train_loan.columns)"
   ]
  },
  {
   "cell_type": "markdown",
   "id": "8f2bf837",
   "metadata": {
    "deletable": false,
    "editable": false
   },
   "source": [
    "#### Problem 3.2.4 (1 points)\n",
    "Looking at the decision tree, which feature is the most important for predicting if a loan would be approved? "
   ]
  },
  {
   "cell_type": "markdown",
   "id": "fdb2991f",
   "metadata": {
    "deletable": false,
    "editable": false
   },
   "source": [
    "*Write your answer here*"
   ]
  },
  {
   "cell_type": "markdown",
   "id": "c28606ab-11bb-4c10-bc32-558a9a21990a",
   "metadata": {},
   "source": [
    "Credit History"
   ]
  },
  {
   "cell_type": "markdown",
   "id": "8261f4de",
   "metadata": {
    "deletable": false,
    "editable": false
   },
   "source": [
    "#### Problem 3.2.5 (1 points)\n",
    "Next, we're going to gather some data for creating decision trees of different maximum tree depths.  Finish the code below to call the decision tree classifier with different maximum depths."
   ]
  },
  {
   "cell_type": "code",
   "execution_count": 20,
   "id": "652ef10e",
   "metadata": {
    "tags": []
   },
   "outputs": [
    {
     "data": {
      "text/plain": [
       "<matplotlib.legend.Legend at 0x7fb4044c3640>"
      ]
     },
     "execution_count": 20,
     "metadata": {},
     "output_type": "execute_result"
    },
    {
     "data": {
      "image/png": "[encoded data removed]",
      "text/plain": [
       "<Figure size 640x480 with 1 Axes>"
      ]
     },
     "metadata": {},
     "output_type": "display_data"
    }
   ],
   "source": [
    "train_scores=[]\n",
    "test_scores=[]\n",
    "r=range(1,13)\n",
    "for i in r:\n",
    "    T = DecisionTreeClassifier(max_depth=i)\n",
    "    T.fit(X_train_loan, y_train_loan)\n",
    "    train_scores.append(T.score(X_train_loan, y_train_loan))\n",
    "    test_scores.append(T.score(X_test_loan, y_test_loan))\n",
    "fig, ax = plt.subplots(1)\n",
    "sns.lineplot(x=r,y=train_scores,label='train')\n",
    "sns.lineplot(x=r,y=test_scores,label='test')\n",
    "ax.set_ylabel('Prediction score', fontsize=14)\n",
    "ax.set_xlabel('Max tree depth', fontsize=14)\n",
    "ax.legend()\n"
   ]
  },
  {
   "cell_type": "markdown",
   "id": "b074c912",
   "metadata": {
    "deletable": false,
    "editable": false
   },
   "source": []
  },
  {
   "cell_type": "markdown",
   "id": "52bc515a",
   "metadata": {
    "deletable": false,
    "editable": false
   },
   "source": [
    "#### Problem 3.2.6 (2 points)\n",
    "Observe the generated plot.\n",
    "1. Does the accuracy improve for the **train** set as the maximum tree depth increases?\n",
    "2. Does the accuracy improve for the **test** set as the maximum tree depth increases?"
   ]
  },
  {
   "cell_type": "markdown",
   "id": "51930488-9b19-45f3-82a6-a46ccc09af70",
   "metadata": {},
   "source": [
    "1. The accuracy for the train set increases as tree depth increases\n",
    "2. The accuracy for the test set decreases as tree depth increases"
   ]
  },
  {
   "cell_type": "markdown",
   "id": "3528d954",
   "metadata": {
    "deletable": false,
    "editable": false
   },
   "source": [
    "### **Problem 3.3 Train and Test, part 2 (6 points)**\n",
    "You may have noticed that the `Credit_History` feature dominates the loan decision process (which makes sense!)  Using just this feature (max tree depth == 1), the prediction score is over 80%.  But what if you didn't have access to that feature?  How well could you predict what the bank would do?"
   ]
  },
  {
   "cell_type": "markdown",
   "id": "de60ce43",
   "metadata": {
    "deletable": false,
    "editable": false
   },
   "source": [
    "#### Problem 3.3.1 (1 point)\n",
    "Finish the code below to drop the `Credit_History` column from your train and test data."
   ]
  },
  {
   "cell_type": "code",
   "execution_count": 21,
   "id": "252c3b8c",
   "metadata": {
    "tags": []
   },
   "outputs": [],
   "source": [
    "X2_train_loan = X_train_loan.drop(columns=['Credit_History'])\n",
    "X2_test_loan = X_test_loan.drop(columns=['Credit_History'])"
   ]
  },
  {
   "cell_type": "markdown",
   "id": "ee2446d4",
   "metadata": {
    "deletable": false,
    "editable": false
   },
   "source": [
    "#### Problem 3.3.2 (1 point)\n",
    "Finish the code below to create a new classifier fit to the new train and test data."
   ]
  },
  {
   "cell_type": "code",
   "execution_count": 22,
   "id": "5c26feed",
   "metadata": {
    "tags": []
   },
   "outputs": [
    {
     "name": "stdout",
     "output_type": "stream",
     "text": [
      "Score on train: 0.7125603864734299\n",
      "Score on test: 0.6923076923076923\n"
     ]
    },
    {
     "data": {
      "image/png": "[encoded data removed]",
      "text/plain": [
       "<Figure size 2000x2000 with 1 Axes>"
      ]
     },
     "metadata": {},
     "output_type": "display_data"
    }
   ],
   "source": [
    "T2 = DecisionTreeClassifier(max_depth=3)\n",
    "# write your code here\n",
    "T2.fit(X2_train_loan, y_train_loan)\n",
    "train_score = T2.score(X2_train_loan, y_train_loan)\n",
    "test_score = T2.score(X2_test_loan, y_test_loan)\n",
    "\n",
    "print('Score on train:', T2.score(X2_train_loan, y_train_loan))\n",
    "print('Score on test:', T2.score(X2_test_loan, y_test_loan))\n",
    "\n",
    "fig, ax = plt.subplots(1, figsize = (20, 20))\n",
    "p = plot_tree(T2, filled = True, feature_names = X2_train_loan.columns)"
   ]
  },
  {
   "cell_type": "markdown",
   "id": "a35a6c88",
   "metadata": {
    "deletable": false,
    "editable": false
   },
   "source": [
    "#### Problem 3.3.3 (1 point)\n",
    "How do the new scores for the train and test data compare to the previous scores that you printed?  Explain why you might have expected this."
   ]
  },
  {
   "cell_type": "markdown",
   "id": "9e648ae2",
   "metadata": {
    "deletable": false,
    "editable": false
   },
   "source": [
    "*Write your answer here*"
   ]
  },
  {
   "cell_type": "markdown",
   "id": "8c8ea47b-96ed-4792-81ba-d1ce7498b513",
   "metadata": {},
   "source": [
    "Scores of both train and test sets are worse compared to the previous scores. This is because we dropped the feature 'Credit History' which was the main/most important feature in the previous decision tree prediction."
   ]
  },
  {
   "cell_type": "markdown",
   "id": "bc9fd159",
   "metadata": {
    "deletable": false,
    "editable": false
   },
   "source": [
    "#### Problem 3.3.4 (1 points)\n",
    "Once again, finish the code to gather prediction scores at different max tree depths."
   ]
  },
  {
   "cell_type": "code",
   "execution_count": 23,
   "id": "7c1b2610",
   "metadata": {
    "tags": []
   },
   "outputs": [
    {
     "data": {
      "text/plain": [
       "<matplotlib.legend.Legend at 0x7fb40452c3d0>"
      ]
     },
     "execution_count": 23,
     "metadata": {},
     "output_type": "execute_result"
    },
    {
     "data": {
      "image/png": "[encoded data removed]",
      "text/plain": [
       "<Figure size 640x480 with 1 Axes>"
      ]
     },
     "metadata": {},
     "output_type": "display_data"
    }
   ],
   "source": [
    "train_scores=[]\n",
    "test_scores=[]\n",
    "r=range(1,13)\n",
    "for i in r:\n",
    "    T = DecisionTreeClassifier(max_depth=i)\n",
    "    # write your code here\n",
    "    T.fit(X2_train_loan, y_train_loan)\n",
    "\n",
    "    train_scores.append(T.score(X2_train_loan, y_train_loan))\n",
    "    test_scores.append(T.score(X2_test_loan, y_test_loan))\n",
    "fig, ax = plt.subplots(1)\n",
    "sns.lineplot(x=r,y=train_scores,label='train')\n",
    "sns.lineplot(x=r,y=test_scores,label='test')\n",
    "ax.set_ylabel('Prediction score', fontsize=14)\n",
    "ax.set_xlabel('Max tree depth', fontsize=14)\n",
    "ax.legend()"
   ]
  },
  {
   "cell_type": "markdown",
   "id": "935b18bf",
   "metadata": {},
   "source": [
    "#### Problem 3.3.5 (1 point)\n",
    "You should notice that increasing the tree depth dramatically improves the prediction score for the train set.  This is because without `Credit_History`, there is no one primary feature correlated to the outcome, so we need more features to explain the loan decision data.  At roughly what tree depth is the predictor able to predict as well for the train data as the previous predictor did using just `Credit_History`? (i.e. > 80%)?  "
   ]
  },
  {
   "cell_type": "markdown",
   "id": "c34c82a8",
   "metadata": {},
   "source": [
    "Around a tree depth of 7."
   ]
  },
  {
   "cell_type": "markdown",
   "id": "3f1d9a74",
   "metadata": {},
   "source": [
    "#### Problem 3.3.6 (2 points)\n",
    "You should see that for the test data, the predictor never gets near to the 80% mark.  No matter how deep the tree, the prediction score for the test data does not improve the same way as it did for the train data.  Why is this?"
   ]
  },
  {
   "cell_type": "markdown",
   "id": "e930bfe0",
   "metadata": {},
   "source": [
    "This would usually be the case if the model is overfitting, meaning the model learns the training data TOO well. This is usually caused by having a low amount of training data."
   ]
  },
  {
   "cell_type": "markdown",
   "id": "6c65f1ae",
   "metadata": {},
   "source": [
    "## Problem 4. Parkinsons progression detection (20 points)\n",
    "\n",
    "We will reproduce some of the qualitative results from \n",
    "the following paper, which I've downloaded for you in the same folder:\n",
    "\n",
    "    A. Tsanas, M. A. Little, P. E. McSharry and L. O. Ramig, \"Accurate Telemonitoring of Parkinson's Disease Progression by Noninvasive Speech Tests,\" in IEEE Transactions on Biomedical Engineering, vol. 57, no. 4, pp. 884-893, April 2010, doi: 10.1109/TBME.2009.2036000.\n",
    "\n",
    "The Parkinsons Telemonitoring dataset was downloaded from https://archive.ics.uci.edu/dataset/189/parkinsons+telemonitoring.\n",
    "\n",
    "**It is not necessary for you to read or understand the paper in order to complete this problem. You only need to look at the Tables and Figures in the paper that I point to.**\n",
    "\n",
    "For context, this dataset is composed of a range of biomedical voice measurements from 42 people with early-stage Parkinson's disease recruited to a six-month trial of a telemonitoring device for remote symptom progression monitoring. The recordings were automatically captured in the patient's homes.\n",
    "    \n",
    "Physical test observations are mapped to a metric specifically designed to follow disease progression, typically the unified Parkinson’s disease rating scale (UPDRS) that reflects the presence and severity of symptoms (but does not quantify their underlying causes). For untreated patients, the **total UPDRS spans the range 0–176**, with 0 representing healthy state and 176 representing total disabilities, and consists of three sections: 1) mentation, behavior, and mood; 2) activities of daily living; and 3) motor. The **motor UPDRS ranges from 0 to 108**, with 0 denoting symptom free and 108 denoting severe motor impairment, and encompasses tasks such as speech, facial expression, tremor, and rigidity. \n",
    "\n",
    "Columns in the table contain subject number, subject age, subject gender, time interval from baseline recruitment date, motor UPDRS, total UPDRS, and 16 biomedical voice measures. Each row corresponds to one of 5,875 voice recording from these individuals. **The main aim is to predict the motor and total UPDRS scores from the 16 voice measures.**\n"
   ]
  },
  {
   "cell_type": "code",
   "execution_count": 24,
   "id": "aed95847-74c3-46a1-be43-3a94bd0994e3",
   "metadata": {},
   "outputs": [
    {
     "data": {
      "text/html": [
       "<div>\n",
       "<style scoped>\n",
       "    .dataframe tbody tr th:only-of-type {\n",
       "        vertical-align: middle;\n",
       "    }\n",
       "\n",
       "    .dataframe tbody tr th {\n",
       "        vertical-align: top;\n",
       "    }\n",
       "\n",
       "    .dataframe thead th {\n",
       "        text-align: right;\n",
       "    }\n",
       "</style>\n",
       "<table border=\"1\" class=\"dataframe\">\n",
       "  <thead>\n",
       "    <tr style=\"text-align: right;\">\n",
       "      <th></th>\n",
       "      <th>subject#</th>\n",
       "      <th>age</th>\n",
       "      <th>sex</th>\n",
       "      <th>test_time</th>\n",
       "      <th>motor_UPDRS</th>\n",
       "      <th>total_UPDRS</th>\n",
       "      <th>Jitter(%)</th>\n",
       "      <th>Jitter(Abs)</th>\n",
       "      <th>Jitter:RAP</th>\n",
       "      <th>Jitter:PPQ5</th>\n",
       "      <th>...</th>\n",
       "      <th>Shimmer(dB)</th>\n",
       "      <th>Shimmer:APQ3</th>\n",
       "      <th>Shimmer:APQ5</th>\n",
       "      <th>Shimmer:APQ11</th>\n",
       "      <th>Shimmer:DDA</th>\n",
       "      <th>NHR</th>\n",
       "      <th>HNR</th>\n",
       "      <th>RPDE</th>\n",
       "      <th>DFA</th>\n",
       "      <th>PPE</th>\n",
       "    </tr>\n",
       "  </thead>\n",
       "  <tbody>\n",
       "    <tr>\n",
       "      <th>0</th>\n",
       "      <td>1</td>\n",
       "      <td>72</td>\n",
       "      <td>0</td>\n",
       "      <td>5.6431</td>\n",
       "      <td>28.199</td>\n",
       "      <td>34.398</td>\n",
       "      <td>0.00662</td>\n",
       "      <td>0.000034</td>\n",
       "      <td>0.00401</td>\n",
       "      <td>0.00317</td>\n",
       "      <td>...</td>\n",
       "      <td>0.230</td>\n",
       "      <td>0.01438</td>\n",
       "      <td>0.01309</td>\n",
       "      <td>0.01662</td>\n",
       "      <td>0.04314</td>\n",
       "      <td>0.014290</td>\n",
       "      <td>21.640</td>\n",
       "      <td>0.41888</td>\n",
       "      <td>0.54842</td>\n",
       "      <td>0.16006</td>\n",
       "    </tr>\n",
       "    <tr>\n",
       "      <th>1</th>\n",
       "      <td>1</td>\n",
       "      <td>72</td>\n",
       "      <td>0</td>\n",
       "      <td>12.6660</td>\n",
       "      <td>28.447</td>\n",
       "      <td>34.894</td>\n",
       "      <td>0.00300</td>\n",
       "      <td>0.000017</td>\n",
       "      <td>0.00132</td>\n",
       "      <td>0.00150</td>\n",
       "      <td>...</td>\n",
       "      <td>0.179</td>\n",
       "      <td>0.00994</td>\n",
       "      <td>0.01072</td>\n",
       "      <td>0.01689</td>\n",
       "      <td>0.02982</td>\n",
       "      <td>0.011112</td>\n",
       "      <td>27.183</td>\n",
       "      <td>0.43493</td>\n",
       "      <td>0.56477</td>\n",
       "      <td>0.10810</td>\n",
       "    </tr>\n",
       "    <tr>\n",
       "      <th>2</th>\n",
       "      <td>1</td>\n",
       "      <td>72</td>\n",
       "      <td>0</td>\n",
       "      <td>19.6810</td>\n",
       "      <td>28.695</td>\n",
       "      <td>35.389</td>\n",
       "      <td>0.00481</td>\n",
       "      <td>0.000025</td>\n",
       "      <td>0.00205</td>\n",
       "      <td>0.00208</td>\n",
       "      <td>...</td>\n",
       "      <td>0.181</td>\n",
       "      <td>0.00734</td>\n",
       "      <td>0.00844</td>\n",
       "      <td>0.01458</td>\n",
       "      <td>0.02202</td>\n",
       "      <td>0.020220</td>\n",
       "      <td>23.047</td>\n",
       "      <td>0.46222</td>\n",
       "      <td>0.54405</td>\n",
       "      <td>0.21014</td>\n",
       "    </tr>\n",
       "    <tr>\n",
       "      <th>3</th>\n",
       "      <td>1</td>\n",
       "      <td>72</td>\n",
       "      <td>0</td>\n",
       "      <td>25.6470</td>\n",
       "      <td>28.905</td>\n",
       "      <td>35.810</td>\n",
       "      <td>0.00528</td>\n",
       "      <td>0.000027</td>\n",
       "      <td>0.00191</td>\n",
       "      <td>0.00264</td>\n",
       "      <td>...</td>\n",
       "      <td>0.327</td>\n",
       "      <td>0.01106</td>\n",
       "      <td>0.01265</td>\n",
       "      <td>0.01963</td>\n",
       "      <td>0.03317</td>\n",
       "      <td>0.027837</td>\n",
       "      <td>24.445</td>\n",
       "      <td>0.48730</td>\n",
       "      <td>0.57794</td>\n",
       "      <td>0.33277</td>\n",
       "    </tr>\n",
       "    <tr>\n",
       "      <th>4</th>\n",
       "      <td>1</td>\n",
       "      <td>72</td>\n",
       "      <td>0</td>\n",
       "      <td>33.6420</td>\n",
       "      <td>29.187</td>\n",
       "      <td>36.375</td>\n",
       "      <td>0.00335</td>\n",
       "      <td>0.000020</td>\n",
       "      <td>0.00093</td>\n",
       "      <td>0.00130</td>\n",
       "      <td>...</td>\n",
       "      <td>0.176</td>\n",
       "      <td>0.00679</td>\n",
       "      <td>0.00929</td>\n",
       "      <td>0.01819</td>\n",
       "      <td>0.02036</td>\n",
       "      <td>0.011625</td>\n",
       "      <td>26.126</td>\n",
       "      <td>0.47188</td>\n",
       "      <td>0.56122</td>\n",
       "      <td>0.19361</td>\n",
       "    </tr>\n",
       "    <tr>\n",
       "      <th>...</th>\n",
       "      <td>...</td>\n",
       "      <td>...</td>\n",
       "      <td>...</td>\n",
       "      <td>...</td>\n",
       "      <td>...</td>\n",
       "      <td>...</td>\n",
       "      <td>...</td>\n",
       "      <td>...</td>\n",
       "      <td>...</td>\n",
       "      <td>...</td>\n",
       "      <td>...</td>\n",
       "      <td>...</td>\n",
       "      <td>...</td>\n",
       "      <td>...</td>\n",
       "      <td>...</td>\n",
       "      <td>...</td>\n",
       "      <td>...</td>\n",
       "      <td>...</td>\n",
       "      <td>...</td>\n",
       "      <td>...</td>\n",
       "      <td>...</td>\n",
       "    </tr>\n",
       "    <tr>\n",
       "      <th>5870</th>\n",
       "      <td>42</td>\n",
       "      <td>61</td>\n",
       "      <td>0</td>\n",
       "      <td>142.7900</td>\n",
       "      <td>22.485</td>\n",
       "      <td>33.485</td>\n",
       "      <td>0.00406</td>\n",
       "      <td>0.000031</td>\n",
       "      <td>0.00167</td>\n",
       "      <td>0.00168</td>\n",
       "      <td>...</td>\n",
       "      <td>0.160</td>\n",
       "      <td>0.00973</td>\n",
       "      <td>0.01133</td>\n",
       "      <td>0.01549</td>\n",
       "      <td>0.02920</td>\n",
       "      <td>0.025137</td>\n",
       "      <td>22.369</td>\n",
       "      <td>0.64215</td>\n",
       "      <td>0.55314</td>\n",
       "      <td>0.21367</td>\n",
       "    </tr>\n",
       "    <tr>\n",
       "      <th>5871</th>\n",
       "      <td>42</td>\n",
       "      <td>61</td>\n",
       "      <td>0</td>\n",
       "      <td>149.8400</td>\n",
       "      <td>21.988</td>\n",
       "      <td>32.988</td>\n",
       "      <td>0.00297</td>\n",
       "      <td>0.000025</td>\n",
       "      <td>0.00119</td>\n",
       "      <td>0.00147</td>\n",
       "      <td>...</td>\n",
       "      <td>0.215</td>\n",
       "      <td>0.01052</td>\n",
       "      <td>0.01277</td>\n",
       "      <td>0.01904</td>\n",
       "      <td>0.03157</td>\n",
       "      <td>0.011927</td>\n",
       "      <td>22.886</td>\n",
       "      <td>0.52598</td>\n",
       "      <td>0.56518</td>\n",
       "      <td>0.12621</td>\n",
       "    </tr>\n",
       "    <tr>\n",
       "      <th>5872</th>\n",
       "      <td>42</td>\n",
       "      <td>61</td>\n",
       "      <td>0</td>\n",
       "      <td>156.8200</td>\n",
       "      <td>21.495</td>\n",
       "      <td>32.495</td>\n",
       "      <td>0.00349</td>\n",
       "      <td>0.000025</td>\n",
       "      <td>0.00152</td>\n",
       "      <td>0.00187</td>\n",
       "      <td>...</td>\n",
       "      <td>0.244</td>\n",
       "      <td>0.01371</td>\n",
       "      <td>0.01456</td>\n",
       "      <td>0.01877</td>\n",
       "      <td>0.04112</td>\n",
       "      <td>0.017701</td>\n",
       "      <td>25.065</td>\n",
       "      <td>0.47792</td>\n",
       "      <td>0.57888</td>\n",
       "      <td>0.14157</td>\n",
       "    </tr>\n",
       "    <tr>\n",
       "      <th>5873</th>\n",
       "      <td>42</td>\n",
       "      <td>61</td>\n",
       "      <td>0</td>\n",
       "      <td>163.7300</td>\n",
       "      <td>21.007</td>\n",
       "      <td>32.007</td>\n",
       "      <td>0.00281</td>\n",
       "      <td>0.000020</td>\n",
       "      <td>0.00128</td>\n",
       "      <td>0.00151</td>\n",
       "      <td>...</td>\n",
       "      <td>0.131</td>\n",
       "      <td>0.00693</td>\n",
       "      <td>0.00870</td>\n",
       "      <td>0.01307</td>\n",
       "      <td>0.02078</td>\n",
       "      <td>0.007984</td>\n",
       "      <td>24.422</td>\n",
       "      <td>0.56865</td>\n",
       "      <td>0.56327</td>\n",
       "      <td>0.14204</td>\n",
       "    </tr>\n",
       "    <tr>\n",
       "      <th>5874</th>\n",
       "      <td>42</td>\n",
       "      <td>61</td>\n",
       "      <td>0</td>\n",
       "      <td>170.7300</td>\n",
       "      <td>20.513</td>\n",
       "      <td>31.513</td>\n",
       "      <td>0.00282</td>\n",
       "      <td>0.000021</td>\n",
       "      <td>0.00135</td>\n",
       "      <td>0.00166</td>\n",
       "      <td>...</td>\n",
       "      <td>0.171</td>\n",
       "      <td>0.00946</td>\n",
       "      <td>0.01154</td>\n",
       "      <td>0.01470</td>\n",
       "      <td>0.02839</td>\n",
       "      <td>0.008172</td>\n",
       "      <td>23.259</td>\n",
       "      <td>0.58608</td>\n",
       "      <td>0.57077</td>\n",
       "      <td>0.15336</td>\n",
       "    </tr>\n",
       "  </tbody>\n",
       "</table>\n",
       "<p>5875 rows × 22 columns</p>\n",
       "</div>"
      ],
      "text/plain": [
       "      subject#  age  sex  test_time  motor_UPDRS  total_UPDRS  Jitter(%)  \\\n",
       "0            1   72    0     5.6431       28.199       34.398    0.00662   \n",
       "1            1   72    0    12.6660       28.447       34.894    0.00300   \n",
       "2            1   72    0    19.6810       28.695       35.389    0.00481   \n",
       "3            1   72    0    25.6470       28.905       35.810    0.00528   \n",
       "4            1   72    0    33.6420       29.187       36.375    0.00335   \n",
       "...        ...  ...  ...        ...          ...          ...        ...   \n",
       "5870        42   61    0   142.7900       22.485       33.485    0.00406   \n",
       "5871        42   61    0   149.8400       21.988       32.988    0.00297   \n",
       "5872        42   61    0   156.8200       21.495       32.495    0.00349   \n",
       "5873        42   61    0   163.7300       21.007       32.007    0.00281   \n",
       "5874        42   61    0   170.7300       20.513       31.513    0.00282   \n",
       "\n",
       "      Jitter(Abs)  Jitter:RAP  Jitter:PPQ5  ...  Shimmer(dB)  Shimmer:APQ3  \\\n",
       "0        0.000034     0.00401      0.00317  ...        0.230       0.01438   \n",
       "1        0.000017     0.00132      0.00150  ...        0.179       0.00994   \n",
       "2        0.000025     0.00205      0.00208  ...        0.181       0.00734   \n",
       "3        0.000027     0.00191      0.00264  ...        0.327       0.01106   \n",
       "4        0.000020     0.00093      0.00130  ...        0.176       0.00679   \n",
       "...           ...         ...          ...  ...          ...           ...   \n",
       "5870     0.000031     0.00167      0.00168  ...        0.160       0.00973   \n",
       "5871     0.000025     0.00119      0.00147  ...        0.215       0.01052   \n",
       "5872     0.000025     0.00152      0.00187  ...        0.244       0.01371   \n",
       "5873     0.000020     0.00128      0.00151  ...        0.131       0.00693   \n",
       "5874     0.000021     0.00135      0.00166  ...        0.171       0.00946   \n",
       "\n",
       "      Shimmer:APQ5  Shimmer:APQ11  Shimmer:DDA       NHR     HNR     RPDE  \\\n",
       "0          0.01309        0.01662      0.04314  0.014290  21.640  0.41888   \n",
       "1          0.01072        0.01689      0.02982  0.011112  27.183  0.43493   \n",
       "2          0.00844        0.01458      0.02202  0.020220  23.047  0.46222   \n",
       "3          0.01265        0.01963      0.03317  0.027837  24.445  0.48730   \n",
       "4          0.00929        0.01819      0.02036  0.011625  26.126  0.47188   \n",
       "...            ...            ...          ...       ...     ...      ...   \n",
       "5870       0.01133        0.01549      0.02920  0.025137  22.369  0.64215   \n",
       "5871       0.01277        0.01904      0.03157  0.011927  22.886  0.52598   \n",
       "5872       0.01456        0.01877      0.04112  0.017701  25.065  0.47792   \n",
       "5873       0.00870        0.01307      0.02078  0.007984  24.422  0.56865   \n",
       "5874       0.01154        0.01470      0.02839  0.008172  23.259  0.58608   \n",
       "\n",
       "          DFA      PPE  \n",
       "0     0.54842  0.16006  \n",
       "1     0.56477  0.10810  \n",
       "2     0.54405  0.21014  \n",
       "3     0.57794  0.33277  \n",
       "4     0.56122  0.19361  \n",
       "...       ...      ...  \n",
       "5870  0.55314  0.21367  \n",
       "5871  0.56518  0.12621  \n",
       "5872  0.57888  0.14157  \n",
       "5873  0.56327  0.14204  \n",
       "5874  0.57077  0.15336  \n",
       "\n",
       "[5875 rows x 22 columns]"
      ]
     },
     "execution_count": 24,
     "metadata": {},
     "output_type": "execute_result"
    }
   ],
   "source": [
    "parkinsons = pd.read_csv('parkinsons_updrs.csv')\n",
    "parkinsons"
   ]
  },
  {
   "cell_type": "markdown",
   "id": "dc724583-9dec-46f1-8ab0-6633e5bfaa8f",
   "metadata": {},
   "source": [
    "### **Problem 4.1 (2 points) Concepts of machine learning**\n",
    "\n",
    "Given the data format and the description above,\n",
    "- Is this more of a **regression** problem or a **classification** problem? Pick one closest answer.\n",
    "- What do the **samples** correspond to, and how many are there?\n",
    "- What are the **target variables (labels, y)**, and how many are there?\n",
    "- What are the **predictor variables (features, X)**, and how many are there?"
   ]
  },
  {
   "cell_type": "markdown",
   "id": "55c26ca4-6f8d-4c0d-a0c5-a4201691bb23",
   "metadata": {},
   "source": [
    "1. Regression\n",
    "2. There are 5,875 samples of voice recordings\n",
    "3. Target variables are scores of total and motor UPDRS\n",
    "4. The 16 voice measures"
   ]
  },
  {
   "cell_type": "markdown",
   "id": "566cc0fe-013c-4590-82da-d822b5aefd3e",
   "metadata": {},
   "source": [
    "### **Problem 4.2 (5 points) Exploring correlations**\n",
    "\n",
    "Open the paper pdf file and scroll down to page 887, Table 1. It looks scary, but all it's doing is calculating the **correlations** between each of the voice features with the UPDRS scores. We'll recreate this table step by step.\n",
    "\n",
    "#### Step 1 (1 point)\n",
    "\n",
    "Drop the columns `subject#`, `age`, `sex`, `test_time` and save the resulting table to a new variable `parkinsons_small`. Your new table should be of size (5875, 18)."
   ]
  },
  {
   "cell_type": "code",
   "execution_count": 25,
   "id": "020d884d-791f-4057-a7e1-64b9c6ce4d98",
   "metadata": {},
   "outputs": [
    {
     "name": "stdout",
     "output_type": "stream",
     "text": [
      "(5875, 18)\n"
     ]
    },
    {
     "data": {
      "text/html": [
       "<div>\n",
       "<style scoped>\n",
       "    .dataframe tbody tr th:only-of-type {\n",
       "        vertical-align: middle;\n",
       "    }\n",
       "\n",
       "    .dataframe tbody tr th {\n",
       "        vertical-align: top;\n",
       "    }\n",
       "\n",
       "    .dataframe thead th {\n",
       "        text-align: right;\n",
       "    }\n",
       "</style>\n",
       "<table border=\"1\" class=\"dataframe\">\n",
       "  <thead>\n",
       "    <tr style=\"text-align: right;\">\n",
       "      <th></th>\n",
       "      <th>motor_UPDRS</th>\n",
       "      <th>total_UPDRS</th>\n",
       "      <th>Jitter(%)</th>\n",
       "      <th>Jitter(Abs)</th>\n",
       "      <th>Jitter:RAP</th>\n",
       "      <th>Jitter:PPQ5</th>\n",
       "      <th>Jitter:DDP</th>\n",
       "      <th>Shimmer</th>\n",
       "      <th>Shimmer(dB)</th>\n",
       "      <th>Shimmer:APQ3</th>\n",
       "      <th>Shimmer:APQ5</th>\n",
       "      <th>Shimmer:APQ11</th>\n",
       "      <th>Shimmer:DDA</th>\n",
       "      <th>NHR</th>\n",
       "      <th>HNR</th>\n",
       "      <th>RPDE</th>\n",
       "      <th>DFA</th>\n",
       "      <th>PPE</th>\n",
       "    </tr>\n",
       "  </thead>\n",
       "  <tbody>\n",
       "    <tr>\n",
       "      <th>0</th>\n",
       "      <td>28.199</td>\n",
       "      <td>34.398</td>\n",
       "      <td>0.00662</td>\n",
       "      <td>0.000034</td>\n",
       "      <td>0.00401</td>\n",
       "      <td>0.00317</td>\n",
       "      <td>0.01204</td>\n",
       "      <td>0.02565</td>\n",
       "      <td>0.230</td>\n",
       "      <td>0.01438</td>\n",
       "      <td>0.01309</td>\n",
       "      <td>0.01662</td>\n",
       "      <td>0.04314</td>\n",
       "      <td>0.014290</td>\n",
       "      <td>21.640</td>\n",
       "      <td>0.41888</td>\n",
       "      <td>0.54842</td>\n",
       "      <td>0.16006</td>\n",
       "    </tr>\n",
       "    <tr>\n",
       "      <th>1</th>\n",
       "      <td>28.447</td>\n",
       "      <td>34.894</td>\n",
       "      <td>0.00300</td>\n",
       "      <td>0.000017</td>\n",
       "      <td>0.00132</td>\n",
       "      <td>0.00150</td>\n",
       "      <td>0.00395</td>\n",
       "      <td>0.02024</td>\n",
       "      <td>0.179</td>\n",
       "      <td>0.00994</td>\n",
       "      <td>0.01072</td>\n",
       "      <td>0.01689</td>\n",
       "      <td>0.02982</td>\n",
       "      <td>0.011112</td>\n",
       "      <td>27.183</td>\n",
       "      <td>0.43493</td>\n",
       "      <td>0.56477</td>\n",
       "      <td>0.10810</td>\n",
       "    </tr>\n",
       "    <tr>\n",
       "      <th>2</th>\n",
       "      <td>28.695</td>\n",
       "      <td>35.389</td>\n",
       "      <td>0.00481</td>\n",
       "      <td>0.000025</td>\n",
       "      <td>0.00205</td>\n",
       "      <td>0.00208</td>\n",
       "      <td>0.00616</td>\n",
       "      <td>0.01675</td>\n",
       "      <td>0.181</td>\n",
       "      <td>0.00734</td>\n",
       "      <td>0.00844</td>\n",
       "      <td>0.01458</td>\n",
       "      <td>0.02202</td>\n",
       "      <td>0.020220</td>\n",
       "      <td>23.047</td>\n",
       "      <td>0.46222</td>\n",
       "      <td>0.54405</td>\n",
       "      <td>0.21014</td>\n",
       "    </tr>\n",
       "    <tr>\n",
       "      <th>3</th>\n",
       "      <td>28.905</td>\n",
       "      <td>35.810</td>\n",
       "      <td>0.00528</td>\n",
       "      <td>0.000027</td>\n",
       "      <td>0.00191</td>\n",
       "      <td>0.00264</td>\n",
       "      <td>0.00573</td>\n",
       "      <td>0.02309</td>\n",
       "      <td>0.327</td>\n",
       "      <td>0.01106</td>\n",
       "      <td>0.01265</td>\n",
       "      <td>0.01963</td>\n",
       "      <td>0.03317</td>\n",
       "      <td>0.027837</td>\n",
       "      <td>24.445</td>\n",
       "      <td>0.48730</td>\n",
       "      <td>0.57794</td>\n",
       "      <td>0.33277</td>\n",
       "    </tr>\n",
       "    <tr>\n",
       "      <th>4</th>\n",
       "      <td>29.187</td>\n",
       "      <td>36.375</td>\n",
       "      <td>0.00335</td>\n",
       "      <td>0.000020</td>\n",
       "      <td>0.00093</td>\n",
       "      <td>0.00130</td>\n",
       "      <td>0.00278</td>\n",
       "      <td>0.01703</td>\n",
       "      <td>0.176</td>\n",
       "      <td>0.00679</td>\n",
       "      <td>0.00929</td>\n",
       "      <td>0.01819</td>\n",
       "      <td>0.02036</td>\n",
       "      <td>0.011625</td>\n",
       "      <td>26.126</td>\n",
       "      <td>0.47188</td>\n",
       "      <td>0.56122</td>\n",
       "      <td>0.19361</td>\n",
       "    </tr>\n",
       "  </tbody>\n",
       "</table>\n",
       "</div>"
      ],
      "text/plain": [
       "   motor_UPDRS  total_UPDRS  Jitter(%)  Jitter(Abs)  Jitter:RAP  Jitter:PPQ5  \\\n",
       "0       28.199       34.398    0.00662     0.000034     0.00401      0.00317   \n",
       "1       28.447       34.894    0.00300     0.000017     0.00132      0.00150   \n",
       "2       28.695       35.389    0.00481     0.000025     0.00205      0.00208   \n",
       "3       28.905       35.810    0.00528     0.000027     0.00191      0.00264   \n",
       "4       29.187       36.375    0.00335     0.000020     0.00093      0.00130   \n",
       "\n",
       "   Jitter:DDP  Shimmer  Shimmer(dB)  Shimmer:APQ3  Shimmer:APQ5  \\\n",
       "0     0.01204  0.02565        0.230       0.01438       0.01309   \n",
       "1     0.00395  0.02024        0.179       0.00994       0.01072   \n",
       "2     0.00616  0.01675        0.181       0.00734       0.00844   \n",
       "3     0.00573  0.02309        0.327       0.01106       0.01265   \n",
       "4     0.00278  0.01703        0.176       0.00679       0.00929   \n",
       "\n",
       "   Shimmer:APQ11  Shimmer:DDA       NHR     HNR     RPDE      DFA      PPE  \n",
       "0        0.01662      0.04314  0.014290  21.640  0.41888  0.54842  0.16006  \n",
       "1        0.01689      0.02982  0.011112  27.183  0.43493  0.56477  0.10810  \n",
       "2        0.01458      0.02202  0.020220  23.047  0.46222  0.54405  0.21014  \n",
       "3        0.01963      0.03317  0.027837  24.445  0.48730  0.57794  0.33277  \n",
       "4        0.01819      0.02036  0.011625  26.126  0.47188  0.56122  0.19361  "
      ]
     },
     "execution_count": 25,
     "metadata": {},
     "output_type": "execute_result"
    }
   ],
   "source": [
    "# Step 1\n",
    "parkinsons_small = parkinsons.drop(columns=['subject#', 'age', 'sex', 'test_time'])\n",
    "print(parkinsons_small.shape)\n",
    "parkinsons_small.head()"
   ]
  },
  {
   "cell_type": "markdown",
   "id": "57d4e4dc-4216-4c74-9f53-0d77663c999b",
   "metadata": {},
   "source": [
    "#### Step 2 (0 point, it's just copy pasting)\n",
    "\n",
    "Copy and run the following code, which calculates the correlation between each pairs of columns in `parkinsons_small`. Your new table should be of size (18, 18).\n",
    "\n",
    "```Python\n",
    "corrs = parkinsons_small.corr(method='spearman')\n",
    "print(corrs.shape)\n",
    "corrs\n",
    "```\n",
    "\n",
    "How to read the table: The correlation between `Jitter(%)` and `total_UPDRS` is 0.129237.\n",
    "\n",
    "Out of scope for DATA110 but just in case you're curious: There are a few mathematical definitions of how to calculate correlation, and Pearson's and Spearman's are two of the most popular methods. The main difference is that Spearman's cares about the ranking of the values, and not the raw values. So it has fewer assumptions on the data than Pearson's and can handle outliers better. But the way the correlation values are interpreted are the same."
   ]
  },
  {
   "cell_type": "code",
   "execution_count": 26,
   "id": "cb6b1206-df40-4fc2-b466-1617a9962084",
   "metadata": {},
   "outputs": [
    {
     "name": "stdout",
     "output_type": "stream",
     "text": [
      "(18, 18)\n"
     ]
    },
    {
     "data": {
      "text/html": [
       "<div>\n",
       "<style scoped>\n",
       "    .dataframe tbody tr th:only-of-type {\n",
       "        vertical-align: middle;\n",
       "    }\n",
       "\n",
       "    .dataframe tbody tr th {\n",
       "        vertical-align: top;\n",
       "    }\n",
       "\n",
       "    .dataframe thead th {\n",
       "        text-align: right;\n",
       "    }\n",
       "</style>\n",
       "<table border=\"1\" class=\"dataframe\">\n",
       "  <thead>\n",
       "    <tr style=\"text-align: right;\">\n",
       "      <th></th>\n",
       "      <th>motor_UPDRS</th>\n",
       "      <th>total_UPDRS</th>\n",
       "      <th>Jitter(%)</th>\n",
       "      <th>Jitter(Abs)</th>\n",
       "      <th>Jitter:RAP</th>\n",
       "      <th>Jitter:PPQ5</th>\n",
       "      <th>Jitter:DDP</th>\n",
       "      <th>Shimmer</th>\n",
       "      <th>Shimmer(dB)</th>\n",
       "      <th>Shimmer:APQ3</th>\n",
       "      <th>Shimmer:APQ5</th>\n",
       "      <th>Shimmer:APQ11</th>\n",
       "      <th>Shimmer:DDA</th>\n",
       "      <th>NHR</th>\n",
       "      <th>HNR</th>\n",
       "      <th>RPDE</th>\n",
       "      <th>DFA</th>\n",
       "      <th>PPE</th>\n",
       "    </tr>\n",
       "  </thead>\n",
       "  <tbody>\n",
       "    <tr>\n",
       "      <th>motor_UPDRS</th>\n",
       "      <td>1.000000</td>\n",
       "      <td>0.957818</td>\n",
       "      <td>0.127905</td>\n",
       "      <td>0.072467</td>\n",
       "      <td>0.106679</td>\n",
       "      <td>0.120092</td>\n",
       "      <td>0.106731</td>\n",
       "      <td>0.136186</td>\n",
       "      <td>0.140127</td>\n",
       "      <td>0.113784</td>\n",
       "      <td>0.121267</td>\n",
       "      <td>0.163761</td>\n",
       "      <td>0.113785</td>\n",
       "      <td>0.135626</td>\n",
       "      <td>-0.158061</td>\n",
       "      <td>0.117980</td>\n",
       "      <td>-0.131377</td>\n",
       "      <td>0.163229</td>\n",
       "    </tr>\n",
       "    <tr>\n",
       "      <th>total_UPDRS</th>\n",
       "      <td>0.957818</td>\n",
       "      <td>1.000000</td>\n",
       "      <td>0.129237</td>\n",
       "      <td>0.104178</td>\n",
       "      <td>0.109214</td>\n",
       "      <td>0.118347</td>\n",
       "      <td>0.109251</td>\n",
       "      <td>0.137550</td>\n",
       "      <td>0.139915</td>\n",
       "      <td>0.119909</td>\n",
       "      <td>0.124940</td>\n",
       "      <td>0.161151</td>\n",
       "      <td>0.119912</td>\n",
       "      <td>0.143972</td>\n",
       "      <td>-0.162284</td>\n",
       "      <td>0.149926</td>\n",
       "      <td>-0.141538</td>\n",
       "      <td>0.155236</td>\n",
       "    </tr>\n",
       "    <tr>\n",
       "      <th>Jitter(%)</th>\n",
       "      <td>0.127905</td>\n",
       "      <td>0.129237</td>\n",
       "      <td>1.000000</td>\n",
       "      <td>0.902065</td>\n",
       "      <td>0.956166</td>\n",
       "      <td>0.959100</td>\n",
       "      <td>0.956176</td>\n",
       "      <td>0.652681</td>\n",
       "      <td>0.673114</td>\n",
       "      <td>0.616051</td>\n",
       "      <td>0.622316</td>\n",
       "      <td>0.635287</td>\n",
       "      <td>0.616048</td>\n",
       "      <td>0.797751</td>\n",
       "      <td>-0.756633</td>\n",
       "      <td>0.529491</td>\n",
       "      <td>0.440976</td>\n",
       "      <td>0.845357</td>\n",
       "    </tr>\n",
       "    <tr>\n",
       "      <th>Jitter(Abs)</th>\n",
       "      <td>0.072467</td>\n",
       "      <td>0.104178</td>\n",
       "      <td>0.902065</td>\n",
       "      <td>1.000000</td>\n",
       "      <td>0.821846</td>\n",
       "      <td>0.886542</td>\n",
       "      <td>0.821845</td>\n",
       "      <td>0.624907</td>\n",
       "      <td>0.634172</td>\n",
       "      <td>0.579700</td>\n",
       "      <td>0.606298</td>\n",
       "      <td>0.634621</td>\n",
       "      <td>0.579697</td>\n",
       "      <td>0.745656</td>\n",
       "      <td>-0.756796</td>\n",
       "      <td>0.634311</td>\n",
       "      <td>0.494995</td>\n",
       "      <td>0.804174</td>\n",
       "    </tr>\n",
       "    <tr>\n",
       "      <th>Jitter:RAP</th>\n",
       "      <td>0.106679</td>\n",
       "      <td>0.109214</td>\n",
       "      <td>0.956166</td>\n",
       "      <td>0.821846</td>\n",
       "      <td>1.000000</td>\n",
       "      <td>0.948001</td>\n",
       "      <td>0.999996</td>\n",
       "      <td>0.645059</td>\n",
       "      <td>0.657433</td>\n",
       "      <td>0.632204</td>\n",
       "      <td>0.616982</td>\n",
       "      <td>0.598533</td>\n",
       "      <td>0.632201</td>\n",
       "      <td>0.745099</td>\n",
       "      <td>-0.726644</td>\n",
       "      <td>0.445449</td>\n",
       "      <td>0.430145</td>\n",
       "      <td>0.772361</td>\n",
       "    </tr>\n",
       "    <tr>\n",
       "      <th>Jitter:PPQ5</th>\n",
       "      <td>0.120092</td>\n",
       "      <td>0.118347</td>\n",
       "      <td>0.959100</td>\n",
       "      <td>0.886542</td>\n",
       "      <td>0.948001</td>\n",
       "      <td>1.000000</td>\n",
       "      <td>0.948016</td>\n",
       "      <td>0.686685</td>\n",
       "      <td>0.698519</td>\n",
       "      <td>0.657140</td>\n",
       "      <td>0.666872</td>\n",
       "      <td>0.668118</td>\n",
       "      <td>0.657138</td>\n",
       "      <td>0.752913</td>\n",
       "      <td>-0.790342</td>\n",
       "      <td>0.510383</td>\n",
       "      <td>0.480241</td>\n",
       "      <td>0.843826</td>\n",
       "    </tr>\n",
       "    <tr>\n",
       "      <th>Jitter:DDP</th>\n",
       "      <td>0.106731</td>\n",
       "      <td>0.109251</td>\n",
       "      <td>0.956176</td>\n",
       "      <td>0.821845</td>\n",
       "      <td>0.999996</td>\n",
       "      <td>0.948016</td>\n",
       "      <td>1.000000</td>\n",
       "      <td>0.645046</td>\n",
       "      <td>0.657419</td>\n",
       "      <td>0.632185</td>\n",
       "      <td>0.616967</td>\n",
       "      <td>0.598526</td>\n",
       "      <td>0.632183</td>\n",
       "      <td>0.745088</td>\n",
       "      <td>-0.726643</td>\n",
       "      <td>0.445419</td>\n",
       "      <td>0.430199</td>\n",
       "      <td>0.772383</td>\n",
       "    </tr>\n",
       "    <tr>\n",
       "      <th>Shimmer</th>\n",
       "      <td>0.136186</td>\n",
       "      <td>0.137550</td>\n",
       "      <td>0.652681</td>\n",
       "      <td>0.624907</td>\n",
       "      <td>0.645059</td>\n",
       "      <td>0.686685</td>\n",
       "      <td>0.645046</td>\n",
       "      <td>1.000000</td>\n",
       "      <td>0.986356</td>\n",
       "      <td>0.983187</td>\n",
       "      <td>0.990056</td>\n",
       "      <td>0.962228</td>\n",
       "      <td>0.983187</td>\n",
       "      <td>0.651018</td>\n",
       "      <td>-0.797739</td>\n",
       "      <td>0.478063</td>\n",
       "      <td>0.283683</td>\n",
       "      <td>0.640047</td>\n",
       "    </tr>\n",
       "    <tr>\n",
       "      <th>Shimmer(dB)</th>\n",
       "      <td>0.140127</td>\n",
       "      <td>0.139915</td>\n",
       "      <td>0.673114</td>\n",
       "      <td>0.634172</td>\n",
       "      <td>0.657433</td>\n",
       "      <td>0.698519</td>\n",
       "      <td>0.657419</td>\n",
       "      <td>0.986356</td>\n",
       "      <td>1.000000</td>\n",
       "      <td>0.963308</td>\n",
       "      <td>0.972345</td>\n",
       "      <td>0.950195</td>\n",
       "      <td>0.963307</td>\n",
       "      <td>0.683746</td>\n",
       "      <td>-0.783647</td>\n",
       "      <td>0.470206</td>\n",
       "      <td>0.263002</td>\n",
       "      <td>0.656526</td>\n",
       "    </tr>\n",
       "    <tr>\n",
       "      <th>Shimmer:APQ3</th>\n",
       "      <td>0.113784</td>\n",
       "      <td>0.119909</td>\n",
       "      <td>0.616051</td>\n",
       "      <td>0.579700</td>\n",
       "      <td>0.632204</td>\n",
       "      <td>0.657140</td>\n",
       "      <td>0.632185</td>\n",
       "      <td>0.983187</td>\n",
       "      <td>0.963308</td>\n",
       "      <td>1.000000</td>\n",
       "      <td>0.981301</td>\n",
       "      <td>0.914915</td>\n",
       "      <td>1.000000</td>\n",
       "      <td>0.619838</td>\n",
       "      <td>-0.778025</td>\n",
       "      <td>0.428351</td>\n",
       "      <td>0.257757</td>\n",
       "      <td>0.589921</td>\n",
       "    </tr>\n",
       "    <tr>\n",
       "      <th>Shimmer:APQ5</th>\n",
       "      <td>0.121267</td>\n",
       "      <td>0.124940</td>\n",
       "      <td>0.622316</td>\n",
       "      <td>0.606298</td>\n",
       "      <td>0.616982</td>\n",
       "      <td>0.666872</td>\n",
       "      <td>0.616967</td>\n",
       "      <td>0.990056</td>\n",
       "      <td>0.972345</td>\n",
       "      <td>0.981301</td>\n",
       "      <td>1.000000</td>\n",
       "      <td>0.959347</td>\n",
       "      <td>0.981303</td>\n",
       "      <td>0.620597</td>\n",
       "      <td>-0.791563</td>\n",
       "      <td>0.456335</td>\n",
       "      <td>0.286283</td>\n",
       "      <td>0.620766</td>\n",
       "    </tr>\n",
       "    <tr>\n",
       "      <th>Shimmer:APQ11</th>\n",
       "      <td>0.163761</td>\n",
       "      <td>0.161151</td>\n",
       "      <td>0.635287</td>\n",
       "      <td>0.634621</td>\n",
       "      <td>0.598533</td>\n",
       "      <td>0.668118</td>\n",
       "      <td>0.598526</td>\n",
       "      <td>0.962228</td>\n",
       "      <td>0.950195</td>\n",
       "      <td>0.914915</td>\n",
       "      <td>0.959347</td>\n",
       "      <td>1.000000</td>\n",
       "      <td>0.914918</td>\n",
       "      <td>0.619666</td>\n",
       "      <td>-0.789223</td>\n",
       "      <td>0.504107</td>\n",
       "      <td>0.306960</td>\n",
       "      <td>0.661655</td>\n",
       "    </tr>\n",
       "    <tr>\n",
       "      <th>Shimmer:DDA</th>\n",
       "      <td>0.113785</td>\n",
       "      <td>0.119912</td>\n",
       "      <td>0.616048</td>\n",
       "      <td>0.579697</td>\n",
       "      <td>0.632201</td>\n",
       "      <td>0.657138</td>\n",
       "      <td>0.632183</td>\n",
       "      <td>0.983187</td>\n",
       "      <td>0.963307</td>\n",
       "      <td>1.000000</td>\n",
       "      <td>0.981303</td>\n",
       "      <td>0.914918</td>\n",
       "      <td>1.000000</td>\n",
       "      <td>0.619836</td>\n",
       "      <td>-0.778025</td>\n",
       "      <td>0.428344</td>\n",
       "      <td>0.257752</td>\n",
       "      <td>0.589915</td>\n",
       "    </tr>\n",
       "    <tr>\n",
       "      <th>NHR</th>\n",
       "      <td>0.135626</td>\n",
       "      <td>0.143972</td>\n",
       "      <td>0.797751</td>\n",
       "      <td>0.745656</td>\n",
       "      <td>0.745099</td>\n",
       "      <td>0.752913</td>\n",
       "      <td>0.745088</td>\n",
       "      <td>0.651018</td>\n",
       "      <td>0.683746</td>\n",
       "      <td>0.619838</td>\n",
       "      <td>0.620597</td>\n",
       "      <td>0.619666</td>\n",
       "      <td>0.619836</td>\n",
       "      <td>1.000000</td>\n",
       "      <td>-0.759482</td>\n",
       "      <td>0.604377</td>\n",
       "      <td>0.146869</td>\n",
       "      <td>0.728748</td>\n",
       "    </tr>\n",
       "    <tr>\n",
       "      <th>HNR</th>\n",
       "      <td>-0.158061</td>\n",
       "      <td>-0.162284</td>\n",
       "      <td>-0.756633</td>\n",
       "      <td>-0.756796</td>\n",
       "      <td>-0.726644</td>\n",
       "      <td>-0.790342</td>\n",
       "      <td>-0.726643</td>\n",
       "      <td>-0.797739</td>\n",
       "      <td>-0.783647</td>\n",
       "      <td>-0.778025</td>\n",
       "      <td>-0.791563</td>\n",
       "      <td>-0.789223</td>\n",
       "      <td>-0.778025</td>\n",
       "      <td>-0.759482</td>\n",
       "      <td>1.000000</td>\n",
       "      <td>-0.646343</td>\n",
       "      <td>-0.359001</td>\n",
       "      <td>-0.754636</td>\n",
       "    </tr>\n",
       "    <tr>\n",
       "      <th>RPDE</th>\n",
       "      <td>0.117980</td>\n",
       "      <td>0.149926</td>\n",
       "      <td>0.529491</td>\n",
       "      <td>0.634311</td>\n",
       "      <td>0.445449</td>\n",
       "      <td>0.510383</td>\n",
       "      <td>0.445419</td>\n",
       "      <td>0.478063</td>\n",
       "      <td>0.470206</td>\n",
       "      <td>0.428351</td>\n",
       "      <td>0.456335</td>\n",
       "      <td>0.504107</td>\n",
       "      <td>0.428344</td>\n",
       "      <td>0.604377</td>\n",
       "      <td>-0.646343</td>\n",
       "      <td>1.000000</td>\n",
       "      <td>0.189610</td>\n",
       "      <td>0.548337</td>\n",
       "    </tr>\n",
       "    <tr>\n",
       "      <th>DFA</th>\n",
       "      <td>-0.131377</td>\n",
       "      <td>-0.141538</td>\n",
       "      <td>0.440976</td>\n",
       "      <td>0.494995</td>\n",
       "      <td>0.430145</td>\n",
       "      <td>0.480241</td>\n",
       "      <td>0.430199</td>\n",
       "      <td>0.283683</td>\n",
       "      <td>0.263002</td>\n",
       "      <td>0.257757</td>\n",
       "      <td>0.286283</td>\n",
       "      <td>0.306960</td>\n",
       "      <td>0.257752</td>\n",
       "      <td>0.146869</td>\n",
       "      <td>-0.359001</td>\n",
       "      <td>0.189610</td>\n",
       "      <td>1.000000</td>\n",
       "      <td>0.415055</td>\n",
       "    </tr>\n",
       "    <tr>\n",
       "      <th>PPE</th>\n",
       "      <td>0.163229</td>\n",
       "      <td>0.155236</td>\n",
       "      <td>0.845357</td>\n",
       "      <td>0.804174</td>\n",
       "      <td>0.772361</td>\n",
       "      <td>0.843826</td>\n",
       "      <td>0.772383</td>\n",
       "      <td>0.640047</td>\n",
       "      <td>0.656526</td>\n",
       "      <td>0.589921</td>\n",
       "      <td>0.620766</td>\n",
       "      <td>0.661655</td>\n",
       "      <td>0.589915</td>\n",
       "      <td>0.728748</td>\n",
       "      <td>-0.754636</td>\n",
       "      <td>0.548337</td>\n",
       "      <td>0.415055</td>\n",
       "      <td>1.000000</td>\n",
       "    </tr>\n",
       "  </tbody>\n",
       "</table>\n",
       "</div>"
      ],
      "text/plain": [
       "               motor_UPDRS  total_UPDRS  Jitter(%)  Jitter(Abs)  Jitter:RAP  \\\n",
       "motor_UPDRS       1.000000     0.957818   0.127905     0.072467    0.106679   \n",
       "total_UPDRS       0.957818     1.000000   0.129237     0.104178    0.109214   \n",
       "Jitter(%)         0.127905     0.129237   1.000000     0.902065    0.956166   \n",
       "Jitter(Abs)       0.072467     0.104178   0.902065     1.000000    0.821846   \n",
       "Jitter:RAP        0.106679     0.109214   0.956166     0.821846    1.000000   \n",
       "Jitter:PPQ5       0.120092     0.118347   0.959100     0.886542    0.948001   \n",
       "Jitter:DDP        0.106731     0.109251   0.956176     0.821845    0.999996   \n",
       "Shimmer           0.136186     0.137550   0.652681     0.624907    0.645059   \n",
       "Shimmer(dB)       0.140127     0.139915   0.673114     0.634172    0.657433   \n",
       "Shimmer:APQ3      0.113784     0.119909   0.616051     0.579700    0.632204   \n",
       "Shimmer:APQ5      0.121267     0.124940   0.622316     0.606298    0.616982   \n",
       "Shimmer:APQ11     0.163761     0.161151   0.635287     0.634621    0.598533   \n",
       "Shimmer:DDA       0.113785     0.119912   0.616048     0.579697    0.632201   \n",
       "NHR               0.135626     0.143972   0.797751     0.745656    0.745099   \n",
       "HNR              -0.158061    -0.162284  -0.756633    -0.756796   -0.726644   \n",
       "RPDE              0.117980     0.149926   0.529491     0.634311    0.445449   \n",
       "DFA              -0.131377    -0.141538   0.440976     0.494995    0.430145   \n",
       "PPE               0.163229     0.155236   0.845357     0.804174    0.772361   \n",
       "\n",
       "               Jitter:PPQ5  Jitter:DDP   Shimmer  Shimmer(dB)  Shimmer:APQ3  \\\n",
       "motor_UPDRS       0.120092    0.106731  0.136186     0.140127      0.113784   \n",
       "total_UPDRS       0.118347    0.109251  0.137550     0.139915      0.119909   \n",
       "Jitter(%)         0.959100    0.956176  0.652681     0.673114      0.616051   \n",
       "Jitter(Abs)       0.886542    0.821845  0.624907     0.634172      0.579700   \n",
       "Jitter:RAP        0.948001    0.999996  0.645059     0.657433      0.632204   \n",
       "Jitter:PPQ5       1.000000    0.948016  0.686685     0.698519      0.657140   \n",
       "Jitter:DDP        0.948016    1.000000  0.645046     0.657419      0.632185   \n",
       "Shimmer           0.686685    0.645046  1.000000     0.986356      0.983187   \n",
       "Shimmer(dB)       0.698519    0.657419  0.986356     1.000000      0.963308   \n",
       "Shimmer:APQ3      0.657140    0.632185  0.983187     0.963308      1.000000   \n",
       "Shimmer:APQ5      0.666872    0.616967  0.990056     0.972345      0.981301   \n",
       "Shimmer:APQ11     0.668118    0.598526  0.962228     0.950195      0.914915   \n",
       "Shimmer:DDA       0.657138    0.632183  0.983187     0.963307      1.000000   \n",
       "NHR               0.752913    0.745088  0.651018     0.683746      0.619838   \n",
       "HNR              -0.790342   -0.726643 -0.797739    -0.783647     -0.778025   \n",
       "RPDE              0.510383    0.445419  0.478063     0.470206      0.428351   \n",
       "DFA               0.480241    0.430199  0.283683     0.263002      0.257757   \n",
       "PPE               0.843826    0.772383  0.640047     0.656526      0.589921   \n",
       "\n",
       "               Shimmer:APQ5  Shimmer:APQ11  Shimmer:DDA       NHR       HNR  \\\n",
       "motor_UPDRS        0.121267       0.163761     0.113785  0.135626 -0.158061   \n",
       "total_UPDRS        0.124940       0.161151     0.119912  0.143972 -0.162284   \n",
       "Jitter(%)          0.622316       0.635287     0.616048  0.797751 -0.756633   \n",
       "Jitter(Abs)        0.606298       0.634621     0.579697  0.745656 -0.756796   \n",
       "Jitter:RAP         0.616982       0.598533     0.632201  0.745099 -0.726644   \n",
       "Jitter:PPQ5        0.666872       0.668118     0.657138  0.752913 -0.790342   \n",
       "Jitter:DDP         0.616967       0.598526     0.632183  0.745088 -0.726643   \n",
       "Shimmer            0.990056       0.962228     0.983187  0.651018 -0.797739   \n",
       "Shimmer(dB)        0.972345       0.950195     0.963307  0.683746 -0.783647   \n",
       "Shimmer:APQ3       0.981301       0.914915     1.000000  0.619838 -0.778025   \n",
       "Shimmer:APQ5       1.000000       0.959347     0.981303  0.620597 -0.791563   \n",
       "Shimmer:APQ11      0.959347       1.000000     0.914918  0.619666 -0.789223   \n",
       "Shimmer:DDA        0.981303       0.914918     1.000000  0.619836 -0.778025   \n",
       "NHR                0.620597       0.619666     0.619836  1.000000 -0.759482   \n",
       "HNR               -0.791563      -0.789223    -0.778025 -0.759482  1.000000   \n",
       "RPDE               0.456335       0.504107     0.428344  0.604377 -0.646343   \n",
       "DFA                0.286283       0.306960     0.257752  0.146869 -0.359001   \n",
       "PPE                0.620766       0.661655     0.589915  0.728748 -0.754636   \n",
       "\n",
       "                   RPDE       DFA       PPE  \n",
       "motor_UPDRS    0.117980 -0.131377  0.163229  \n",
       "total_UPDRS    0.149926 -0.141538  0.155236  \n",
       "Jitter(%)      0.529491  0.440976  0.845357  \n",
       "Jitter(Abs)    0.634311  0.494995  0.804174  \n",
       "Jitter:RAP     0.445449  0.430145  0.772361  \n",
       "Jitter:PPQ5    0.510383  0.480241  0.843826  \n",
       "Jitter:DDP     0.445419  0.430199  0.772383  \n",
       "Shimmer        0.478063  0.283683  0.640047  \n",
       "Shimmer(dB)    0.470206  0.263002  0.656526  \n",
       "Shimmer:APQ3   0.428351  0.257757  0.589921  \n",
       "Shimmer:APQ5   0.456335  0.286283  0.620766  \n",
       "Shimmer:APQ11  0.504107  0.306960  0.661655  \n",
       "Shimmer:DDA    0.428344  0.257752  0.589915  \n",
       "NHR            0.604377  0.146869  0.728748  \n",
       "HNR           -0.646343 -0.359001 -0.754636  \n",
       "RPDE           1.000000  0.189610  0.548337  \n",
       "DFA            0.189610  1.000000  0.415055  \n",
       "PPE            0.548337  0.415055  1.000000  "
      ]
     },
     "execution_count": 26,
     "metadata": {},
     "output_type": "execute_result"
    }
   ],
   "source": [
    "# Step 2\n",
    "\n",
    "corrs = parkinsons_small.corr(method='spearman')\n",
    "print(corrs.shape)\n",
    "corrs"
   ]
  },
  {
   "cell_type": "markdown",
   "id": "7d205ff3-193c-4b68-b931-9159461ec5c0",
   "metadata": {},
   "source": [
    "#### Step 3 (2 points)\n",
    "\n",
    "Since we're only interested in the correlations with the UPDRS scores, \n",
    "\n",
    "1. Keep only the columns `motor_UPDRS`,`total_UPDRS` and save the new table to `corrs_table1`.\n",
    "2. Within the table `corrs_table1`, drop the rows with index `motor_UPDRS`,`total_UPDRS` and save the new table to `corrs_table1` (overwrite it)."
   ]
  },
  {
   "cell_type": "code",
   "execution_count": 27,
   "id": "85af80fd-bd07-4581-b40d-6ad269bf0a69",
   "metadata": {},
   "outputs": [
    {
     "data": {
      "text/html": [
       "<div>\n",
       "<style scoped>\n",
       "    .dataframe tbody tr th:only-of-type {\n",
       "        vertical-align: middle;\n",
       "    }\n",
       "\n",
       "    .dataframe tbody tr th {\n",
       "        vertical-align: top;\n",
       "    }\n",
       "\n",
       "    .dataframe thead th {\n",
       "        text-align: right;\n",
       "    }\n",
       "</style>\n",
       "<table border=\"1\" class=\"dataframe\">\n",
       "  <thead>\n",
       "    <tr style=\"text-align: right;\">\n",
       "      <th></th>\n",
       "      <th>motor_UPDRS</th>\n",
       "      <th>total_UPDRS</th>\n",
       "    </tr>\n",
       "  </thead>\n",
       "  <tbody>\n",
       "    <tr>\n",
       "      <th>Jitter(%)</th>\n",
       "      <td>0.127905</td>\n",
       "      <td>0.129237</td>\n",
       "    </tr>\n",
       "    <tr>\n",
       "      <th>Jitter(Abs)</th>\n",
       "      <td>0.072467</td>\n",
       "      <td>0.104178</td>\n",
       "    </tr>\n",
       "    <tr>\n",
       "      <th>Jitter:RAP</th>\n",
       "      <td>0.106679</td>\n",
       "      <td>0.109214</td>\n",
       "    </tr>\n",
       "    <tr>\n",
       "      <th>Jitter:PPQ5</th>\n",
       "      <td>0.120092</td>\n",
       "      <td>0.118347</td>\n",
       "    </tr>\n",
       "    <tr>\n",
       "      <th>Jitter:DDP</th>\n",
       "      <td>0.106731</td>\n",
       "      <td>0.109251</td>\n",
       "    </tr>\n",
       "    <tr>\n",
       "      <th>Shimmer</th>\n",
       "      <td>0.136186</td>\n",
       "      <td>0.137550</td>\n",
       "    </tr>\n",
       "    <tr>\n",
       "      <th>Shimmer(dB)</th>\n",
       "      <td>0.140127</td>\n",
       "      <td>0.139915</td>\n",
       "    </tr>\n",
       "    <tr>\n",
       "      <th>Shimmer:APQ3</th>\n",
       "      <td>0.113784</td>\n",
       "      <td>0.119909</td>\n",
       "    </tr>\n",
       "    <tr>\n",
       "      <th>Shimmer:APQ5</th>\n",
       "      <td>0.121267</td>\n",
       "      <td>0.124940</td>\n",
       "    </tr>\n",
       "    <tr>\n",
       "      <th>Shimmer:APQ11</th>\n",
       "      <td>0.163761</td>\n",
       "      <td>0.161151</td>\n",
       "    </tr>\n",
       "    <tr>\n",
       "      <th>Shimmer:DDA</th>\n",
       "      <td>0.113785</td>\n",
       "      <td>0.119912</td>\n",
       "    </tr>\n",
       "    <tr>\n",
       "      <th>NHR</th>\n",
       "      <td>0.135626</td>\n",
       "      <td>0.143972</td>\n",
       "    </tr>\n",
       "    <tr>\n",
       "      <th>HNR</th>\n",
       "      <td>-0.158061</td>\n",
       "      <td>-0.162284</td>\n",
       "    </tr>\n",
       "    <tr>\n",
       "      <th>RPDE</th>\n",
       "      <td>0.117980</td>\n",
       "      <td>0.149926</td>\n",
       "    </tr>\n",
       "    <tr>\n",
       "      <th>DFA</th>\n",
       "      <td>-0.131377</td>\n",
       "      <td>-0.141538</td>\n",
       "    </tr>\n",
       "    <tr>\n",
       "      <th>PPE</th>\n",
       "      <td>0.163229</td>\n",
       "      <td>0.155236</td>\n",
       "    </tr>\n",
       "  </tbody>\n",
       "</table>\n",
       "</div>"
      ],
      "text/plain": [
       "               motor_UPDRS  total_UPDRS\n",
       "Jitter(%)         0.127905     0.129237\n",
       "Jitter(Abs)       0.072467     0.104178\n",
       "Jitter:RAP        0.106679     0.109214\n",
       "Jitter:PPQ5       0.120092     0.118347\n",
       "Jitter:DDP        0.106731     0.109251\n",
       "Shimmer           0.136186     0.137550\n",
       "Shimmer(dB)       0.140127     0.139915\n",
       "Shimmer:APQ3      0.113784     0.119909\n",
       "Shimmer:APQ5      0.121267     0.124940\n",
       "Shimmer:APQ11     0.163761     0.161151\n",
       "Shimmer:DDA       0.113785     0.119912\n",
       "NHR               0.135626     0.143972\n",
       "HNR              -0.158061    -0.162284\n",
       "RPDE              0.117980     0.149926\n",
       "DFA              -0.131377    -0.141538\n",
       "PPE               0.163229     0.155236"
      ]
     },
     "execution_count": 27,
     "metadata": {},
     "output_type": "execute_result"
    }
   ],
   "source": [
    "# Step 3\n",
    "corrs_table1 = corrs.filter(['motor_UPDRS', 'total_UPDRS'])\n",
    "\n",
    "corrs_table1 = corrs_table1.drop(['motor_UPDRS', 'total_UPDRS'])\n",
    "\n",
    "corrs_table1"
   ]
  },
  {
   "cell_type": "markdown",
   "id": "ed738a91-4227-44d7-8449-f7a5042e7505",
   "metadata": {},
   "source": [
    "#### Step 4 (2 points) Interpretation\n",
    "\n",
    "Compare what you have with the numbers in Table 1, and check if they are **roughly** the same. \n",
    "\n",
    "**Note**: The numbers won't be exactly the same, because 5923 recordings are analyzed in the paper, but we only have access to 5875 of them. \n",
    "\n",
    "Question: What are your interpretations of these values? Do any of the biomedical voice variables seem highly correlated with the Parkinson's scores? Which variable do you think would be the most important in predicting UPDRS? "
   ]
  },
  {
   "cell_type": "markdown",
   "id": "19986338-1566-450e-afbc-7e27989010a6",
   "metadata": {},
   "source": [
    "The most important variables in predicting UPDRS seem to be the APQ... variables, alongwith NHR and PPE. Variables such as HNR and DFA have the least impact in predicting UPDRS."
   ]
  },
  {
   "cell_type": "markdown",
   "id": "81022142-667f-47be-87d1-e59d5fe3d424",
   "metadata": {},
   "source": [
    "### **Problem 4.3 (5 points) Prepare data for ML**\n",
    "\n",
    "Now comes the actual prediction! We will train and test a **linear regression** model to predict motor_UPDRS from the 16 voice variables. In other words, we are assuming that the motor_UPDRS scores are **approximately** equal to\n",
    "\n",
    "c1\\*Jitter(%) + c2\\*Jitter(Abs) + c3\\*Jitter:RAP + ... + c16\\*PPE\n",
    "\n",
    "for some set of coefficients (c1, c2, c3, ..., c16). And when we train or fit a linear regression model, we are looking for the best set of coefficients that describes the training dataset. When we test the model, we compare the model's predictions with the actual motor_UPDRS scores in the test dataset. If any of this sounds foreign to you, now would be a good time to review the past few lectures.\n",
    "\n",
    "#### Problem 4.3.1 (1 point)\n",
    "\n",
    "In an ideal world, we would train our model on the entire dataset, collect data from new patients, then test it on the new data. However, this is obviously not feasible in this case. In cases like this, most people randomly split the *existing* samples into train and test, and \"pretend\" like the samples in the test set are actually coming from future patients.\n",
    "\n",
    "We can split the data by patients or by recordings. The authors of this paper chose to split by recordings. \n",
    "\n",
    "Fill in the blank such that this sentence describes what the code does:\n",
    "\n",
    "    We will randomly put __90__% of the ___rows____ into the __train___ set, and put the remaining __rows_____ into the ____test___ set.\n",
    "\n",
    "- Options for 1: number between 0 and 100\n",
    "- Options for 2: rows or columns\n",
    "- Options for 3: train or test\n",
    "\n",
    "The corresponding code:\n",
    "\n",
    "```Python\n",
    "train = parkinsons_small.sample(frac=0.9)\n",
    "test = parkinsons_small.drop(index=train.index)\n",
    "```\n",
    "\n",
    "And then copy and run the code.\n"
   ]
  },
  {
   "cell_type": "code",
   "execution_count": 28,
   "id": "22a034c7-477c-4281-8e03-1abe2efbadad",
   "metadata": {},
   "outputs": [],
   "source": [
    "train = parkinsons_small.sample(frac=0.9)\n",
    "test = parkinsons_small.drop(index=train.index)"
   ]
  },
  {
   "cell_type": "markdown",
   "id": "8798f538-9b35-44e2-8032-72ffeb5b7692",
   "metadata": {},
   "source": [
    "#### Problem 4.3.2 (4 point)\n",
    "\n",
    "Given your knowledge of what predictor variables and target variables are, create the following four variables: `X_train`, `y_train`, `X_test`, `y_test`. They are derived from tables `train` and `test`.\n",
    "\n",
    "Here's one way to check your answer:\n",
    "```Python\n",
    "print(X_train.shape, y_train.shape)\n",
    "    (5288, 16) (5288,)\n",
    "print(X_test.shape, y_test.shape)\n",
    "    (587, 16) (587,)\n",
    "```"
   ]
  },
  {
   "cell_type": "code",
   "execution_count": 29,
   "id": "986101be-d23a-47a8-b106-f0847fc3ca10",
   "metadata": {},
   "outputs": [],
   "source": [
    "predictors = ['Jitter(%)', 'Jitter(Abs)', 'Jitter:RAP', 'Jitter:PPQ5', 'Jitter:DDP','Shimmer', 'Shimmer(dB)', 'Shimmer:APQ3','Shimmer:APQ5', 'Shimmer:APQ11', 'Shimmer:DDA', 'NHR','HNR', 'RPDE', 'DFA', 'PPE']\n",
    "X_train = train[predictors]\n",
    "y_train = train['motor_UPDRS']\n",
    "\n",
    "X_test = test[predictors]\n",
    "y_test = test['motor_UPDRS']"
   ]
  },
  {
   "cell_type": "code",
   "execution_count": 30,
   "id": "3bfe2462-2a85-4eb5-b8ed-d0010ec43903",
   "metadata": {},
   "outputs": [
    {
     "name": "stdout",
     "output_type": "stream",
     "text": [
      "(5288, 16) (5288,)\n",
      "(587, 16) (587,)\n"
     ]
    }
   ],
   "source": [
    "print(X_train.shape, y_train.shape)\n",
    "print(X_test.shape, y_test.shape)"
   ]
  },
  {
   "cell_type": "markdown",
   "id": "e4e07824-6f51-4855-a951-ce4afc1bac1e",
   "metadata": {},
   "source": [
    "### **Problem 4.4 (2 points) Train and test model**\n",
    "\n",
    "Copy the code, fill in the blanks (i.e., call with appropriate parameters), and run the code in the next cell.\n",
    "\n",
    "```Python\n",
    "from sklearn.linear_model import LinearRegression\n",
    "\n",
    "lr = LinearRegression(fit_intercept=False)\n",
    "lr.fit(..., ...)\n",
    "print(lr.score(..., ...))\n",
    "\n",
    "coefs = pd.DataFrame(lr.coef_, \n",
    "                     index=lr.feature_names_in_, \n",
    "                    columns=['Motor UPDRS LR coefficients'])\n",
    "coefs\n",
    "```"
   ]
  },
  {
   "cell_type": "code",
   "execution_count": 31,
   "id": "868796cf-1ddd-4a75-8faa-49d3a7e9c0b6",
   "metadata": {},
   "outputs": [
    {
     "name": "stdout",
     "output_type": "stream",
     "text": [
      "0.04275413231957925\n"
     ]
    },
    {
     "data": {
      "text/html": [
       "<div>\n",
       "<style scoped>\n",
       "    .dataframe tbody tr th:only-of-type {\n",
       "        vertical-align: middle;\n",
       "    }\n",
       "\n",
       "    .dataframe tbody tr th {\n",
       "        vertical-align: top;\n",
       "    }\n",
       "\n",
       "    .dataframe thead th {\n",
       "        text-align: right;\n",
       "    }\n",
       "</style>\n",
       "<table border=\"1\" class=\"dataframe\">\n",
       "  <thead>\n",
       "    <tr style=\"text-align: right;\">\n",
       "      <th></th>\n",
       "      <th>Motor UPDRS LR coefficients</th>\n",
       "    </tr>\n",
       "  </thead>\n",
       "  <tbody>\n",
       "    <tr>\n",
       "      <th>Jitter(%)</th>\n",
       "      <td>55.001058</td>\n",
       "    </tr>\n",
       "    <tr>\n",
       "      <th>Jitter(Abs)</th>\n",
       "      <td>-77972.929866</td>\n",
       "    </tr>\n",
       "    <tr>\n",
       "      <th>Jitter:RAP</th>\n",
       "      <td>-59888.786094</td>\n",
       "    </tr>\n",
       "    <tr>\n",
       "      <th>Jitter:PPQ5</th>\n",
       "      <td>-143.963782</td>\n",
       "    </tr>\n",
       "    <tr>\n",
       "      <th>Jitter:DDP</th>\n",
       "      <td>20096.910018</td>\n",
       "    </tr>\n",
       "    <tr>\n",
       "      <th>Shimmer</th>\n",
       "      <td>54.804882</td>\n",
       "    </tr>\n",
       "    <tr>\n",
       "      <th>Shimmer(dB)</th>\n",
       "      <td>-0.958479</td>\n",
       "    </tr>\n",
       "    <tr>\n",
       "      <th>Shimmer:APQ3</th>\n",
       "      <td>-24773.553613</td>\n",
       "    </tr>\n",
       "    <tr>\n",
       "      <th>Shimmer:APQ5</th>\n",
       "      <td>-154.036145</td>\n",
       "    </tr>\n",
       "    <tr>\n",
       "      <th>Shimmer:APQ11</th>\n",
       "      <td>105.482429</td>\n",
       "    </tr>\n",
       "    <tr>\n",
       "      <th>Shimmer:DDA</th>\n",
       "      <td>8267.911394</td>\n",
       "    </tr>\n",
       "    <tr>\n",
       "      <th>NHR</th>\n",
       "      <td>1.657158</td>\n",
       "    </tr>\n",
       "    <tr>\n",
       "      <th>HNR</th>\n",
       "      <td>0.495517</td>\n",
       "    </tr>\n",
       "    <tr>\n",
       "      <th>RPDE</th>\n",
       "      <td>17.661190</td>\n",
       "    </tr>\n",
       "    <tr>\n",
       "      <th>DFA</th>\n",
       "      <td>-9.153953</td>\n",
       "    </tr>\n",
       "    <tr>\n",
       "      <th>PPE</th>\n",
       "      <td>33.289600</td>\n",
       "    </tr>\n",
       "  </tbody>\n",
       "</table>\n",
       "</div>"
      ],
      "text/plain": [
       "               Motor UPDRS LR coefficients\n",
       "Jitter(%)                        55.001058\n",
       "Jitter(Abs)                  -77972.929866\n",
       "Jitter:RAP                   -59888.786094\n",
       "Jitter:PPQ5                    -143.963782\n",
       "Jitter:DDP                    20096.910018\n",
       "Shimmer                          54.804882\n",
       "Shimmer(dB)                      -0.958479\n",
       "Shimmer:APQ3                 -24773.553613\n",
       "Shimmer:APQ5                   -154.036145\n",
       "Shimmer:APQ11                   105.482429\n",
       "Shimmer:DDA                    8267.911394\n",
       "NHR                               1.657158\n",
       "HNR                               0.495517\n",
       "RPDE                             17.661190\n",
       "DFA                              -9.153953\n",
       "PPE                              33.289600"
      ]
     },
     "execution_count": 31,
     "metadata": {},
     "output_type": "execute_result"
    }
   ],
   "source": [
    "from sklearn.linear_model import LinearRegression\n",
    "\n",
    "lr = LinearRegression(fit_intercept=False)\n",
    "lr.fit(X_train, y_train)\n",
    "print(lr.score(X_test, y_test))\n",
    "\n",
    "coefs = pd.DataFrame(lr.coef_, \n",
    "                     index=lr.feature_names_in_, \n",
    "                    columns=['Motor UPDRS LR coefficients'])\n",
    "coefs"
   ]
  },
  {
   "cell_type": "markdown",
   "id": "d9a255f4-3d3e-4a7d-8d63-809f01e6d31f",
   "metadata": {},
   "source": [
    "### **Problem 4.5 (3 points) Analyze model results**\n",
    "\n",
    "- (1 point) Given the $R^2$ score that is printed out, do you think this linear regression model is a good predictive model of motor_UPDRS or not?\n",
    "- (2 points) Out of the 16 features, which one(s) are deemed the most *important* or *useful* at predicting motor_UPDRS according to the model? Comment on both the magnitude and direction (negative vs. positive) of the coefficient values and what that means in the context of the problem we're interested in. Are they the same variables you mentioned in Problem 4.2 (based on correlations)? You are welcome to compare your numbers with the reulsts in Table 3 (first column), but not required."
   ]
  },
  {
   "cell_type": "markdown",
   "id": "7c2e4656-46ea-40ea-ad95-2f5bb3107ac0",
   "metadata": {},
   "source": [
    "1. No, the R2 score for this linear regression model was quite low, at 0.0511\n",
    "2. The features most important in terms of magnitude would be Jitter(Abs) and Jitter:RAP (both negative but high coefficients), indicating negative correlation in terms of motor UPDRS. On the other hand, features with positive coefficients such as Shimmer:DDA have a positive relationship with motor UPDRS."
   ]
  },
  {
   "cell_type": "markdown",
   "id": "01cd29af-98df-4d61-8c59-eec98bc1946d",
   "metadata": {},
   "source": [
    "### **Problem 4.6 (3 points) Repeating the experiment multiple times**\n",
    "\n",
    "You might say - but Harlin, this is only based on a specific train/test split. What if it just so happened that this set of samples leads to this result? How can we trust our interpretations are generally true? \n",
    "\n",
    "You are absolutely right! That's why the authors of this paper repeated this 1000 times to create Table 3. \n",
    "\n",
    "Fill in the missing parts of the code below (you shouldn't have to write new code, just copy paste from earlier problems). \n",
    "\n",
    "```Python\n",
    "coefs = pd.DataFrame([], columns=lr.feature_names_in_)\n",
    "\n",
    "for i in range(1000):\n",
    "    train = parkinsons_small.sample(frac=0.9)\n",
    "    test = parkinsons_small.drop(train.index)\n",
    "\n",
    "    #####\n",
    "    # Add four lines of code here that creates X_train, y_train, X_test, y_test. \n",
    "    #####\n",
    "    \n",
    "    lr = LinearRegression(fit_intercept=False)\n",
    "    # fill in the parameters here\n",
    "    lr.fit(..., ...)\n",
    "\n",
    "    coefs.loc[len(coefs)] = lr.coef_\n",
    "\n",
    "coefs.mean()\n",
    "```\n",
    "\n",
    "Then tell us, **how did your analysis on the importance of each feature change?** If it didn't change, that's is also okay.\n",
    "\n",
    "\n",
    "**Note**: Again, you won't get the same numbers as Table 3 because we don't have access to the full dataset, and there is some randomness involved. But my coefficients except for Jitter (%) looks *qualitatively* similar (I get a 40-ish number for Jitter (%) instead of a -80-ish number, which is odd)."
   ]
  },
  {
   "cell_type": "code",
   "execution_count": 33,
   "id": "5a52b3f2-6a17-4f13-b965-4f7cad8e24ef",
   "metadata": {},
   "outputs": [
    {
     "data": {
      "text/plain": [
       "total_UPDRS          0.715524\n",
       "Jitter(%)          238.030908\n",
       "Jitter(Abs)     -29582.133394\n",
       "Jitter:RAP       -7288.525732\n",
       "Jitter:PPQ5       -145.715264\n",
       "Jitter:DDP        2397.675967\n",
       "Shimmer             45.427968\n",
       "Shimmer(dB)         -0.784095\n",
       "Shimmer:APQ3     10302.550719\n",
       "Shimmer:APQ5       -72.408083\n",
       "Shimmer:APQ11       28.349613\n",
       "Shimmer:DDA      -3439.926299\n",
       "NHR                  5.786393\n",
       "HNR                  0.027389\n",
       "RPDE                -2.450147\n",
       "DFA                  0.326052\n",
       "PPE                  5.180458\n",
       "dtype: float64"
      ]
     },
     "execution_count": 33,
     "metadata": {},
     "output_type": "execute_result"
    }
   ],
   "source": [
    "coefs = pd.DataFrame([], columns=lr.feature_names_in_)\n",
    "\n",
    "for i in range(1000):\n",
    "    train = parkinsons_small.sample(frac=0.9)\n",
    "    test = parkinsons_small.drop(train.index)\n",
    "\n",
    "    #####\n",
    "    # Add four lines of code here that creates X_train, y_train, X_test, y_test. \n",
    "    X_train = train.drop(columns=['motor_UPDRS'])\n",
    "    y_train = train['motor_UPDRS']\n",
    "    X_test = test.drop(columns=['motor_UPDRS'])\n",
    "    y_test = test['motor_UPDRS']\n",
    "    #####\n",
    "    \n",
    "    lr = LinearRegression(fit_intercept=False)\n",
    "    # fill in the parameters here\n",
    "    lr.fit(X_train, y_train)\n",
    "\n",
    "    coefs.loc[len(coefs)] = lr.coef_\n",
    "\n",
    "coefs.mean()"
   ]
  },
  {
   "cell_type": "code",
   "execution_count": 34,
   "id": "b22e5d3e-cd00-4ada-8fa5-1e9d85dfd325",
   "metadata": {},
   "outputs": [
    {
     "data": {
      "text/plain": [
       "<Axes: >"
      ]
     },
     "execution_count": 34,
     "metadata": {},
     "output_type": "execute_result"
    },
    {
     "data": {
      "image/png": "[encoded data removed]",
      "text/plain": [
       "<Figure size 640x480 with 1 Axes>"
      ]
     },
     "metadata": {},
     "output_type": "display_data"
    }
   ],
   "source": [
    "# this should give you pretty box plots once you're done with the previous question.\n",
    "sns.boxplot(coefs, orient='h')"
   ]
  },
  {
   "cell_type": "markdown",
   "id": "62a8614e-6864-4b89-8637-a3bb193dd7d1",
   "metadata": {},
   "source": [
    "## Problem 5. Random walk (15 points)\n",
    "\n",
    "In this problem, we’ll simulate the simple random walk, perhaps the most important discrete-time stochastic process. Random walks are commonly used to model phenomena in physics, chemistry, biology, and finance. \n",
    "\n",
    "In the simple random walk, we flip a coin at each timestep. If heads, we move foward one step; if tails, we move backwards. For example, if our beginning position is 0 and we move three steps backwards, our position is -3.\n",
    "\n",
    "### **Problem 5.1 (8 points)** \n",
    "\n",
    "Write a `random_walk` function to simulate a random walk. Your function should:\n",
    "\n",
    "- Take int `n` as input, which represents the number of coin flips or steps.\n",
    "- Also take int `start` as input, which is the beginning position. This has a default value of 0.\n",
    "- Lastly take `weights` as input, which is a list of two numbers that indicate the probabilities of flipping heads and tails, respectively. This has a default value of [0.5, 0.5] (fair coin).\n",
    "- Return `positions`, which is a list of integers. It keeps track of your position at each time step, including the beginning position indicated by `start`. It should have `n`+1 numbers in it.\n",
    "\n",
    "**Hint**: To simulate a fair coin toss, try running the following cell multiple times. You don’t have to use \"H\" and \"T\" when using this function – can you think of a more useful choice set?"
   ]
  },
  {
   "cell_type": "code",
   "execution_count": null,
   "id": "ebd4c753-64f5-4650-8a35-0352dd60ca6e",
   "metadata": {},
   "outputs": [],
   "source": [
    "import random\n",
    "\n",
    "random.choices([\"H\", \"T\"], weights=[0.4, 0.6], k=10)"
   ]
  },
  {
   "cell_type": "code",
   "execution_count": null,
   "id": "e77df5f1-be4f-4a52-b9f4-93274b0130cf",
   "metadata": {},
   "outputs": [],
   "source": [
    "import random\n",
    "\n",
    "def random_walk(n, start = 0, weights = [0.5, 0.5]):\n",
    "    position = [start]\n",
    "    current_position = start\n",
    "\n",
    "    for _ in range(n):\n",
    "        step = random.choices([-1, 1], weights=weights)[0]\n",
    "        current_position += step\n",
    "        position.append(current_position)\n",
    "    return position\n",
    "# write your code here\n",
    "position = random_walk(10)\n",
    "print(position)"
   ]
  },
  {
   "cell_type": "markdown",
   "id": "ac672101-3bea-4b4b-9687-8d93cdc7c406",
   "metadata": {},
   "source": [
    "Before moving on to the next step, make sure to check your code by running the function with different arguments. "
   ]
  },
  {
   "cell_type": "code",
   "execution_count": null,
   "id": "08607806-aa56-4500-a4d1-1a914cb62c34",
   "metadata": {},
   "outputs": [],
   "source": [
    "\n",
    "positions = random_walk(20)\n",
    "print(positions[:10])"
   ]
  },
  {
   "cell_type": "markdown",
   "id": "9e26727f-1462-47f3-9b3d-bd222423837b",
   "metadata": {},
   "source": [
    "I've written some visualization code for you. Run the following two cells to check that your code works."
   ]
  },
  {
   "cell_type": "code",
   "execution_count": null,
   "id": "06e8c8d1-fe73-4e38-8cee-3d6dfc2933e7",
   "metadata": {},
   "outputs": [],
   "source": [
    "import seaborn as sns\n",
    "import matplotlib.pyplot as plt\n",
    "\n",
    "def plot_random_walk(positions, lower_bound=0, upper_bound=40):\n",
    "    fig, ax = plt.subplots(1, figsize=(12, 8))\n",
    "    sns.lineplot(positions)\n",
    "    ax.set_xlabel('Timestep', fontsize=14)\n",
    "    ax.set_ylabel('Position', fontsize=14)\n",
    "    ax.axhline(lower_bound, linestyle=':', color='r', label='Broke')\n",
    "    ax.axhline(upper_bound, linestyle=':', color='k', label='Quit while ahead')\n",
    "    \n",
    "    ax.set_title('Random Walk', fontsize=20)\n",
    "    ax.legend(fontsize=14)"
   ]
  },
  {
   "cell_type": "code",
   "execution_count": null,
   "id": "7b465c25-e870-4476-b46e-68ee3b9f2061",
   "metadata": {},
   "outputs": [],
   "source": [
    "positions = random_walk(1000)\n",
    "plot_random_walk(positions, -20, 20)"
   ]
  },
  {
   "cell_type": "markdown",
   "id": "3b56eb90-55d6-40c9-8e59-45493da8aac9",
   "metadata": {},
   "source": [
    "### **Problem 5.2 (2 points)**\n",
    "\n",
    "Let's consider this scenario. \n",
    "\n",
    "You go to Vegas with \\$20 in your pocket, and play a game at the casino. The dealer says, \"I'll flip this fair coin 500 times, and if it lands heads, I'll give you a dollar. But if it lands tails, you'll have to give me a dollar.\"\n",
    "\n",
    "Because you're smart, you decide that once you earn 10 additional dollars from this game, you'll walk away and quit while you're ahead.\n",
    "\n",
    "Call `random_walk` and `plot_random_walk` with appropriate parameters that fit this story.\n",
    "\n",
    "\n",
    "**Hint**: What would your `positions` correspond to in this story? \n",
    "\n",
    "**Hint**: You're \"broke\" if you lose all \\$20."
   ]
  },
  {
   "cell_type": "code",
   "execution_count": null,
   "id": "e67cabd0-c624-4814-aff8-7a67d330c47e",
   "metadata": {},
   "outputs": [],
   "source": [
    "positions = random_walk(500, start = 20) \n",
    "plot_random_walk(positions) "
   ]
  },
  {
   "cell_type": "markdown",
   "id": "fcbb3c92-fa5d-447c-94cd-fe5a76f012a7",
   "metadata": {},
   "source": [
    "Did you win? Did you lose? Not broke but also not able to quit while ahead? Obviously, you're not able to continue playing once you lose all your money, so we're asking whether you hit the red line ('broke') first or the black line ('quit while ahead') first."
   ]
  },
  {
   "cell_type": "markdown",
   "id": "e3893cb0-edc1-4113-a6ac-63d37e43abae",
   "metadata": {},
   "source": [
    "By the end of the flips, we \"won\" by gaining a profit off the initial 20 dollars, and not losing any money in the process. I was able to quit while ahead (black line)."
   ]
  },
  {
   "cell_type": "markdown",
   "id": "018ef60e-fed9-4471-a462-03195f5000f2",
   "metadata": {},
   "source": [
    "### **Problem 5.3 (5 points)**\n",
    "\n",
    "Uh oh, it turns out the dealer was lying to us :( The coin was not fair! The coin was slightly biased against you, only turning up heads 41% of the time.\n",
    "\n",
    "Call the functions again with the correct parameters given this new information."
   ]
  },
  {
   "cell_type": "code",
   "execution_count": null,
   "id": "9e5a992f-4a75-4910-8736-4afca5d5ec91",
   "metadata": {},
   "outputs": [],
   "source": [
    "positions = random_walk(500, start = 20, weights=[0.59, 0.41])\n",
    "plot_random_walk(positions)"
   ]
  },
  {
   "cell_type": "markdown",
   "id": "3c9e6288-2eb1-4caf-9d7a-5af4e1fbfef3",
   "metadata": {},
   "source": [
    "Run this unfair game 10 times, and tell us what happened. Did you win or lose? There's no need to show us the plots; just run the same cell 10 times and keep track of your results."
   ]
  },
  {
   "cell_type": "markdown",
   "id": "e8062049-6577-421b-a75a-0292045bc0ff",
   "metadata": {},
   "source": [
    "Double click on this markdown cell to edit the table:\n",
    "\n",
    "| Game    | Outcome |\n",
    "| -------- | ------- |\n",
    "| 1 | Loss |\n",
    "| 2 | Loss |\n",
    "| 3 | Loss |\n",
    "| 4 | Loss |\n",
    "| 5 | Loss |\n",
    "| 6 | Loss |\n",
    "| 7 | Loss |\n",
    "| 8 | Loss |\n",
    "| 9 | Loss |\n",
    "| 10 | Loss |"
   ]
  },
  {
   "cell_type": "markdown",
   "id": "c63e036c-a69c-4f3d-b640-34cec014af22",
   "metadata": {},
   "source": [
    "You probably noticed that even though the coin was only slightly biased against you and 41% sounds like decent odds, you're much more likely to lose than win. This is a phenomenon called **gambler's ruin**. You can read about it more in the [Wikipedia article](https://en.wikipedia.org/wiki/Gambler%27s_ruin) or [this lecture notes](https://web.mit.edu/neboat/Public/6.042/randomwalks.pdf)."
   ]
  },
  {
   "cell_type": "markdown",
   "id": "aabe50ac-ac5a-4f16-b7e5-62f370d4d27a",
   "metadata": {},
   "source": [
    "## Extra credit (1 extra credit point)\n",
    "\n",
    "How many hours did you spend on each of HW1, HW2, HW3, and HW4? Your answer won't affect your grade."
   ]
  },
  {
   "cell_type": "markdown",
   "id": "2d2e9a96-8776-45b5-8c32-d5d76dff5a09",
   "metadata": {},
   "source": [
    "HW1: ~6-8\n",
    "HW2: ~8\n",
    "HW3: ~10+\n",
    "HW4: 10-12+"
   ]
  },
  {
   "cell_type": "markdown",
   "id": "43a3f9f6",
   "metadata": {
    "deletable": false,
    "editable": false
   },
   "source": [
    "## Submission\n",
    "\n",
    "Make sure you have run all cells in your notebook in order before running the cell below, so that all images/graphs appear in the output. The cell below will generate a zip file for you to submit. **Please save before exporting!**\n",
    "\n",
    "Submit zip file and PDF to Gradescope Homework4"
   ]
  },
  {
   "cell_type": "code",
   "execution_count": null,
   "id": "9c4a460e",
   "metadata": {
    "deletable": false,
    "editable": false
   },
   "outputs": [],
   "source": [
    "# Save your notebook first, then run this cell to export your submission.\n",
    "grader.export(pdf=False, run_tests=True)"
   ]
  },
  {
   "cell_type": "markdown",
   "id": "0cb4e168",
   "metadata": {},
   "source": [
    " "
   ]
  }
 ],
 "metadata": {
  "kernelspec": {
   "display_name": "Python 3 (ipykernel)",
   "language": "python",
   "name": "python3"
  },
  "language_info": {
   "codemirror_mode": {
    "name": "ipython",
    "version": 3
   },
   "file_extension": ".py",
   "mimetype": "text/x-python",
   "name": "python",
   "nbconvert_exporter": "python",
   "pygments_lexer": "ipython3",
   "version": "3.10.10"
  },
  "otter": {
   "OK_FORMAT": true,
   "tests": {}
  }
 },
 "nbformat": 4,
 "nbformat_minor": 5
}
